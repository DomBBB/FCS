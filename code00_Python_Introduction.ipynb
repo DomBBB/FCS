{
  "nbformat": 4,
  "nbformat_minor": 0,
  "metadata": {
    "kernelspec": {
      "display_name": "Python 3 (system-wide)",
      "language": "python",
      "metadata": {
        "cocalc": {
          "description": "Python 3 programming language",
          "priority": 100,
          "url": "https://www.python.org/"
        }
      },
      "name": "python3"
    },
    "language_info": {
      "codemirror_mode": {
        "name": "ipython",
        "version": 3
      },
      "file_extension": ".py",
      "mimetype": "text/x-python",
      "name": "python",
      "nbconvert_exporter": "python",
      "pygments_lexer": "ipython3",
      "version": "3.6.9"
    },
    "colab": {
      "name": "code00 Python Introduction.ipynb",
      "provenance": [],
      "include_colab_link": true
    }
  },
  "cells": [
    {
      "cell_type": "markdown",
      "metadata": {
        "id": "view-in-github",
        "colab_type": "text"
      },
      "source": [
        "<a href=\"https://colab.research.google.com/github/WahlerP/csfundamentals-hsg/blob/master/code00_Python_Introduction.ipynb\" target=\"_parent\"><img src=\"https://colab.research.google.com/assets/colab-badge.svg\" alt=\"Open In Colab\"/></a>"
      ]
    },
    {
      "cell_type": "markdown",
      "metadata": {
        "collapsed": false,
        "id": "Bmu7C1tUJp1C",
        "colab_type": "text"
      },
      "source": [
        "This Jupyter Notebook is based on [How to Get Started With Python?](https://www.programiz.com/python-programming/first-program)"
      ]
    },
    {
      "cell_type": "markdown",
      "metadata": {
        "collapsed": false,
        "id": "4JKUNfvXJp1D",
        "colab_type": "text"
      },
      "source": [
        "# Your first Python Program"
      ]
    },
    {
      "cell_type": "markdown",
      "metadata": {
        "collapsed": false,
        "id": "y-yHVeNKJp1E",
        "colab_type": "text"
      },
      "source": [
        "Let's create a very simple program called \"Hello World!\".  A \"Hello, World!\" is a simple program that outputs Hello, World! on the screen. Since it's a very simple program, it's often used to introduce a new programming language to a newbie."
      ]
    },
    {
      "cell_type": "code",
      "metadata": {
        "id": "xPz1tXH1Jp1E",
        "colab_type": "code",
        "colab": {},
        "outputId": "45d9fa49-7012-40ef-d7bf-411cdedb20e7"
      },
      "source": [
        "print(\"Hello world!\")"
      ],
      "execution_count": 0,
      "outputs": [
        {
          "output_type": "stream",
          "text": [
            "Hello world!\n"
          ],
          "name": "stdout"
        }
      ]
    },
    {
      "cell_type": "markdown",
      "metadata": {
        "collapsed": false,
        "id": "gZDQ6ljEJp1I",
        "colab_type": "text"
      },
      "source": [
        "# Keywords and Identifiers"
      ]
    },
    {
      "cell_type": "markdown",
      "metadata": {
        "collapsed": false,
        "id": "l3Okf7fsJp1J",
        "colab_type": "text"
      },
      "source": [
        "## Python Keywords"
      ]
    },
    {
      "cell_type": "markdown",
      "metadata": {
        "collapsed": false,
        "id": "DDLPIq_zJp1J",
        "colab_type": "text"
      },
      "source": [
        "Keywords are the reserved words in Python.\n",
        "\n",
        "We cannot use a keyword as a variable name, function name or any other identifier. They are used to define the syntax and structure of the Python language.\n",
        "\n",
        "In Python, keywords are case sensitive.\n",
        "\n",
        "There are `33` keywords in Python 3.7. This number can vary slightly in the course of time.\n",
        "\n",
        "All the keywords except `True`, `False` and `None` are in lowercase and they must be written as it is. The list of all the keywords is given below."
      ]
    },
    {
      "cell_type": "markdown",
      "metadata": {
        "collapsed": false,
        "id": "mSAf9dkFJp1K",
        "colab_type": "text"
      },
      "source": [
        "<style type=\"text/css\">\n",
        ".tg  {border-collapse:collapse;border-spacing:0;border-color:#ccc;}\n",
        ".tg td{font-family:Arial, sans-serif;font-size:14px;padding:10px 5px;border-style:solid;border-width:1px;overflow:hidden;word-break:normal;border-color:#ccc;color:#333;background-color:#fff;}\n",
        ".tg th{font-family:Arial, sans-serif;font-size:14px;font-weight:normal;padding:10px 5px;border-style:solid;border-width:1px;overflow:hidden;word-break:normal;border-color:#ccc;color:#333;background-color:#f0f0f0;}\n",
        ".tg .tg-baqh{text-align:center;vertical-align:top}\n",
        ".tg .tg-0pky{border-color:inherit;text-align:left;vertical-align:top}\n",
        "</style>\n",
        "<table class=\"tg\">\n",
        "  <tr>\n",
        "    <th class=\"tg-baqh\" colspan=\"5\">Keywords in Python</th>\n",
        "  </tr>\n",
        "  <tr>\n",
        "    <td class=\"tg-0pky\">False</td>\n",
        "    <td class=\"tg-0pky\">class</td>\n",
        "    <td class=\"tg-0pky\">finally</td>\n",
        "    <td class=\"tg-0pky\">is</td>\n",
        "    <td class=\"tg-0pky\">return</td>\n",
        "  </tr>\n",
        "  <tr>\n",
        "    <td class=\"tg-0pky\">None</td>\n",
        "    <td class=\"tg-0pky\">continue</td>\n",
        "    <td class=\"tg-0pky\">for</td>\n",
        "    <td class=\"tg-0pky\">lambda</td>\n",
        "    <td class=\"tg-0pky\">try</td>\n",
        "  </tr>\n",
        "  <tr>\n",
        "    <td class=\"tg-0pky\">True</td>\n",
        "    <td class=\"tg-0pky\">def</td>\n",
        "    <td class=\"tg-0pky\">from</td>\n",
        "    <td class=\"tg-0pky\">nonlocal</td>\n",
        "    <td class=\"tg-0pky\">while</td>\n",
        "  </tr>\n",
        "  <tr>\n",
        "    <td class=\"tg-0pky\">and</td>\n",
        "    <td class=\"tg-0pky\">del</td>\n",
        "    <td class=\"tg-0pky\">global</td>\n",
        "    <td class=\"tg-0pky\">not</td>\n",
        "    <td class=\"tg-0pky\">with</td>\n",
        "  </tr>\n",
        "  <tr>\n",
        "    <td class=\"tg-0pky\">as</td>\n",
        "    <td class=\"tg-0pky\">elif</td>\n",
        "    <td class=\"tg-0pky\">if</td>\n",
        "    <td class=\"tg-0pky\">or</td>\n",
        "    <td class=\"tg-0pky\">yield</td>\n",
        "  </tr>\n",
        "  <tr>\n",
        "    <td class=\"tg-0pky\">assert</td>\n",
        "    <td class=\"tg-0pky\">else</td>\n",
        "    <td class=\"tg-0pky\">import</td>\n",
        "    <td class=\"tg-0pky\">pass</td>\n",
        "    <td class=\"tg-0pky\"></td>\n",
        "  </tr>\n",
        "  <tr>\n",
        "    <td class=\"tg-0pky\">break</td>\n",
        "    <td class=\"tg-0pky\">except</td>\n",
        "    <td class=\"tg-0pky\">in</td>\n",
        "    <td class=\"tg-0pky\">raise</td>\n",
        "    <td class=\"tg-0pky\"></td>\n",
        "  </tr>\n",
        "</table>"
      ]
    },
    {
      "cell_type": "markdown",
      "metadata": {
        "collapsed": false,
        "id": "5Ayn5IToJp1K",
        "colab_type": "text"
      },
      "source": [
        "## Python Identifiers"
      ]
    },
    {
      "cell_type": "markdown",
      "metadata": {
        "collapsed": false,
        "id": "rmzo16AHJp1L",
        "colab_type": "text"
      },
      "source": [
        "### Rules for writing identifiers"
      ]
    },
    {
      "cell_type": "markdown",
      "metadata": {
        "collapsed": false,
        "id": "sRAsvbLTJp1L",
        "colab_type": "text"
      },
      "source": [
        "1. dentifiers can be a combination of letters in lowercase **(a to z)** or uppercase **(A to Z)** or digits **(0 to 9)** or an \n",
        "underscore `_`. Names like `myClass`, `var_1` and `print_this_to_screen`, all are valid example."
      ]
    },
    {
      "cell_type": "markdown",
      "metadata": {
        "collapsed": false,
        "id": "UuiLL6tDJp1M",
        "colab_type": "text"
      },
      "source": [
        "2. An identifier cannot start with a digit. `1variable` is invalid, but `variable1` is perfectly fine."
      ]
    },
    {
      "cell_type": "markdown",
      "metadata": {
        "collapsed": false,
        "id": "cqkjAGwvJp1M",
        "colab_type": "text"
      },
      "source": [
        "3. Keywords cannot be used as identifiers."
      ]
    },
    {
      "cell_type": "code",
      "metadata": {
        "id": "LnC6D2MBJp1N",
        "colab_type": "code",
        "colab": {},
        "outputId": "65d444d3-1076-4311-9304-e8e7e35adecb"
      },
      "source": [
        "global = 1"
      ],
      "execution_count": 0,
      "outputs": [
        {
          "output_type": "error",
          "ename": "SyntaxError",
          "evalue": "invalid syntax (<ipython-input-1-3d177345d6e4>, line 1)",
          "traceback": [
            "\u001b[0;36m  File \u001b[0;32m\"<ipython-input-1-3d177345d6e4>\"\u001b[0;36m, line \u001b[0;32m1\u001b[0m\n\u001b[0;31m    global = 1\u001b[0m\n\u001b[0m           ^\u001b[0m\n\u001b[0;31mSyntaxError\u001b[0m\u001b[0;31m:\u001b[0m invalid syntax\n"
          ]
        }
      ]
    },
    {
      "cell_type": "markdown",
      "metadata": {
        "collapsed": false,
        "id": "RVQZP7ROJp1P",
        "colab_type": "text"
      },
      "source": [
        "4. We cannot use special symbols like **!, @, #, $, \\%** etc. in our identifier."
      ]
    },
    {
      "cell_type": "code",
      "metadata": {
        "id": "jLZNVrqqJp1Q",
        "colab_type": "code",
        "colab": {},
        "outputId": "fb70325f-fe28-4fee-8213-758fba6999cb"
      },
      "source": [
        "a@ = 0"
      ],
      "execution_count": 0,
      "outputs": [
        {
          "output_type": "error",
          "ename": "SyntaxError",
          "evalue": "invalid syntax (<ipython-input-2-4d4a0e714c73>, line 1)",
          "traceback": [
            "\u001b[0;36m  File \u001b[0;32m\"<ipython-input-2-4d4a0e714c73>\"\u001b[0;36m, line \u001b[0;32m1\u001b[0m\n\u001b[0;31m    a@ = 0\u001b[0m\n\u001b[0m       ^\u001b[0m\n\u001b[0;31mSyntaxError\u001b[0m\u001b[0;31m:\u001b[0m invalid syntax\n"
          ]
        }
      ]
    },
    {
      "cell_type": "markdown",
      "metadata": {
        "collapsed": false,
        "id": "C8khto0bJp1U",
        "colab_type": "text"
      },
      "source": [
        "5. Identifier can be of any length."
      ]
    },
    {
      "cell_type": "markdown",
      "metadata": {
        "collapsed": false,
        "id": "TJzcEQuZJp1V",
        "colab_type": "text"
      },
      "source": [
        "### Things to Remember"
      ]
    },
    {
      "cell_type": "markdown",
      "metadata": {
        "collapsed": false,
        "id": "M_dIZ8snJp1V",
        "colab_type": "text"
      },
      "source": [
        "Python is a case-sensitive language. This means, `Variable` and `variable` are not the same. Always name identifiers that make sense.\n",
        "\n",
        "While, c = 10 is valid. Writing count = 10 would make more sense and it would be easier to figure out what it does even when you look at your code after a long gap.\n",
        "\n",
        "Multiple words can be separated using an underscore, this_is_a_long_variable."
      ]
    },
    {
      "cell_type": "markdown",
      "metadata": {
        "collapsed": false,
        "id": "I4V-bcdAJp1V",
        "colab_type": "text"
      },
      "source": [
        "# Statement, Indentation and Comments"
      ]
    },
    {
      "cell_type": "markdown",
      "metadata": {
        "collapsed": false,
        "id": "9xYelsqkJp1W",
        "colab_type": "text"
      },
      "source": [
        "## Statement\n",
        "\n",
        "Instructions that a Python interpreter can execute are called statements. For example, `a = 1` is an assignment statement. `if` statement, `for` statement, `while` statement etc. are other kinds of statements which will be discussed later.\n",
        "\n",
        "## Multi-line statement\n",
        "In Python, end of a statement is marked by a newline character. But we can make a statement extend over multiple lines with the line continuation character (`\\``). For example:"
      ]
    },
    {
      "cell_type": "code",
      "metadata": {
        "id": "qn7Mu7lnJp1W",
        "colab_type": "code",
        "colab": {}
      },
      "source": [
        "a = 1 + 2 + 3 + \\\n",
        "    4 + 5 + 6 + \\\n",
        "    7 + 8 + 9"
      ],
      "execution_count": 0,
      "outputs": []
    },
    {
      "cell_type": "markdown",
      "metadata": {
        "collapsed": false,
        "id": "5UMqQAzTJp1a",
        "colab_type": "text"
      },
      "source": [
        "This is explicit line continuation. In Python, line continuation is implied inside parentheses `(` `)`, brackets  `[` `]` and braces  `{` `}`. For instance, we can implement the above multi-line statement as"
      ]
    },
    {
      "cell_type": "code",
      "metadata": {
        "id": "V8c6E4V6Jp1b",
        "colab_type": "code",
        "colab": {}
      },
      "source": [
        "a = (1 + 2 + 3 +\n",
        "    4 + 5 + 6 +\n",
        "    7 + 8 + 9)"
      ],
      "execution_count": 0,
      "outputs": []
    },
    {
      "cell_type": "markdown",
      "metadata": {
        "collapsed": false,
        "id": "vaZVa2jlJp1e",
        "colab_type": "text"
      },
      "source": [
        "Here, the surrounding parentheses `(` `)` do the line continuation implicitly. Same is the case with `[` `]`  and  `{` `}`. For example:"
      ]
    },
    {
      "cell_type": "code",
      "metadata": {
        "id": "8BARUapqJp1f",
        "colab_type": "code",
        "colab": {}
      },
      "source": [
        "colors = ['red',\n",
        "          'blue',\n",
        "          'green']"
      ],
      "execution_count": 0,
      "outputs": []
    },
    {
      "cell_type": "markdown",
      "metadata": {
        "collapsed": false,
        "id": "34bVQRrVJp1i",
        "colab_type": "text"
      },
      "source": [
        "We could also put multiple statements in a single line using semicolons, as follows"
      ]
    },
    {
      "cell_type": "markdown",
      "metadata": {
        "collapsed": false,
        "id": "7DGiD4FKJp1j",
        "colab_type": "text"
      },
      "source": [
        "a = 1; b = 2; c = 3"
      ]
    },
    {
      "cell_type": "markdown",
      "metadata": {
        "collapsed": false,
        "id": "YAs1vsITJp1k",
        "colab_type": "text"
      },
      "source": [
        "## Python Indentation"
      ]
    },
    {
      "cell_type": "markdown",
      "metadata": {
        "collapsed": false,
        "id": "uKwSw_uoJp1l",
        "colab_type": "text"
      },
      "source": [
        "Most of the programming languages like C, C++, Java use braces `{` `}` to define a block of code. Python uses indentation.\n",
        "\n",
        "A code block (body of a `function`, `loop` etc.) starts with indentation and ends with the first unindented line. The amount of indentation is up to you, but it must be consistent throughout that block.\n",
        "\n",
        "Generally four whitespaces are used for indentation and is preferred over tabs. Here is an example.\n",
        "\n"
      ]
    },
    {
      "cell_type": "code",
      "metadata": {
        "id": "lAxwsGSdJp1m",
        "colab_type": "code",
        "colab": {},
        "outputId": "f7e48588-dc7d-4cac-f195-58cea4d5aa24"
      },
      "source": [
        "for i in range(1,11):\n",
        "    print(i)\n",
        "    if i == 5:\n",
        "        break"
      ],
      "execution_count": 0,
      "outputs": [
        {
          "output_type": "stream",
          "text": [
            "1\n",
            "2\n",
            "3\n",
            "4\n",
            "5\n"
          ],
          "name": "stdout"
        }
      ]
    },
    {
      "cell_type": "markdown",
      "metadata": {
        "collapsed": false,
        "id": "ad8CXdBEJp1q",
        "colab_type": "text"
      },
      "source": [
        "The enforcement of indentation in Python makes the code look neat and clean. This results into Python programs that look similar and consistent."
      ]
    },
    {
      "cell_type": "markdown",
      "metadata": {
        "collapsed": false,
        "id": "Wzwid_7nJp1q",
        "colab_type": "text"
      },
      "source": [
        "# Variables, Constants and Literals"
      ]
    },
    {
      "cell_type": "markdown",
      "metadata": {
        "collapsed": false,
        "id": "YCsQ-iHDJp1r",
        "colab_type": "text"
      },
      "source": [
        "In this section, you will learn about Python variables, constants, literals and their use cases.\n",
        "\n"
      ]
    },
    {
      "cell_type": "markdown",
      "metadata": {
        "collapsed": false,
        "id": "bDd3beTpJp1s",
        "colab_type": "text"
      },
      "source": [
        "## Variables\n"
      ]
    },
    {
      "cell_type": "markdown",
      "metadata": {
        "collapsed": false,
        "id": "Cf5ZIrj7Jp1s",
        "colab_type": "text"
      },
      "source": [
        "A variable is a named location used to store data in the memory. It is helpful to think of variables as a container that holds data which can be changed later throughout programming. For example,"
      ]
    },
    {
      "cell_type": "markdown",
      "metadata": {
        "collapsed": false,
        "id": "Y8XaG0cyJp1t",
        "colab_type": "text"
      },
      "source": [
        "number = 10"
      ]
    },
    {
      "cell_type": "markdown",
      "metadata": {
        "collapsed": false,
        "id": "ns_cNievJp1u",
        "colab_type": "text"
      },
      "source": [
        "Here, we have created a named `number`. We have assigned value `10` to the variable.\n",
        "\n",
        "You can think variable as a bag to store books in it and those books can be replaced at any time."
      ]
    },
    {
      "cell_type": "code",
      "metadata": {
        "id": "Ub257IiVJp1u",
        "colab_type": "code",
        "colab": {}
      },
      "source": [
        "number = 10\n",
        "number = 1.1"
      ],
      "execution_count": 0,
      "outputs": []
    },
    {
      "cell_type": "markdown",
      "metadata": {
        "collapsed": false,
        "id": "-_l4VBuoJp1w",
        "colab_type": "text"
      },
      "source": [
        "Initially, the value of number was `10`. Later it's changed to `1.1`.\n",
        "\n",
        "Note: In Python, we don't assign values to the variables, whereas Python gives the reference of the object (value) to the variable."
      ]
    },
    {
      "cell_type": "markdown",
      "metadata": {
        "collapsed": false,
        "id": "uf178_-rJp1y",
        "colab_type": "text"
      },
      "source": [
        "### Assigning a value to a Variable in Python\n"
      ]
    },
    {
      "cell_type": "markdown",
      "metadata": {
        "collapsed": false,
        "id": "AioU1LFjJp1y",
        "colab_type": "text"
      },
      "source": [
        "As you can see from the above example, you can use the assignment operator `=` to assign a value to a variable."
      ]
    },
    {
      "cell_type": "markdown",
      "metadata": {
        "collapsed": false,
        "id": "WyWk2uRWJp1z",
        "colab_type": "text"
      },
      "source": [
        "**Example 1: Declaring and assigning a value to a variable**"
      ]
    },
    {
      "cell_type": "code",
      "metadata": {
        "id": "4I3OPfWPJp1z",
        "colab_type": "code",
        "colab": {},
        "outputId": "be2a1403-ff62-4221-cb02-c5a247a4346b"
      },
      "source": [
        "website = \"apple.com\"\n",
        "print(website)"
      ],
      "execution_count": 0,
      "outputs": [
        {
          "output_type": "stream",
          "text": [
            "apple.com\n"
          ],
          "name": "stdout"
        }
      ]
    },
    {
      "cell_type": "markdown",
      "metadata": {
        "collapsed": false,
        "id": "QfIvcht8Jp11",
        "colab_type": "text"
      },
      "source": [
        "In the above program, we assigned a value `apple.com` to the variable website. Then we print the value assigned to `website` i.e. `apple.com`\n",
        "\n",
        "Note : Python is a **type inferred** language; it can automatically know `apple.com` is a string and declare `website` as a string."
      ]
    },
    {
      "cell_type": "markdown",
      "metadata": {
        "collapsed": false,
        "id": "cGYLvUDWJp12",
        "colab_type": "text"
      },
      "source": [
        "**Example 2: Changing the value of a variable**"
      ]
    },
    {
      "cell_type": "code",
      "metadata": {
        "id": "uX7Gbf1zJp12",
        "colab_type": "code",
        "colab": {},
        "outputId": "1cc6d504-591f-4c53-bffb-e6679f72517f"
      },
      "source": [
        "website = \"apple.com\"\n",
        "print(website)\n",
        "\n",
        "# assigning a new variable to website\n",
        "website = \"programiz.com\"\n",
        "\n",
        "print(website)"
      ],
      "execution_count": 0,
      "outputs": [
        {
          "output_type": "stream",
          "text": [
            "apple.com\n",
            "programiz.com\n"
          ],
          "name": "stdout"
        }
      ]
    },
    {
      "cell_type": "markdown",
      "metadata": {
        "collapsed": false,
        "id": "fBtVjyATJp15",
        "colab_type": "text"
      },
      "source": [
        "In the above program, we have assigned `apple.com` to the website variable initially. Then, it's value is changed to `programiz.com`."
      ]
    },
    {
      "cell_type": "markdown",
      "metadata": {
        "collapsed": false,
        "id": "wCGVBHC8Jp16",
        "colab_type": "text"
      },
      "source": [
        "**Example 3: Assigning multiple values to multiple variables**"
      ]
    },
    {
      "cell_type": "code",
      "metadata": {
        "id": "KpXgpdmsJp16",
        "colab_type": "code",
        "colab": {},
        "outputId": "14db4e54-61c6-4fd2-bd60-7c59b2a9ba6e"
      },
      "source": [
        "a, b, c = 5, 3.2, \"Hello\"\n",
        "\n",
        "print (a)\n",
        "print (b)\n",
        "print (c)"
      ],
      "execution_count": 0,
      "outputs": [
        {
          "output_type": "stream",
          "text": [
            "5\n",
            "3.2\n",
            "Hello\n"
          ],
          "name": "stdout"
        }
      ]
    },
    {
      "cell_type": "markdown",
      "metadata": {
        "collapsed": false,
        "id": "mjDsoNXLJp18",
        "colab_type": "text"
      },
      "source": [
        "If we want to assign the same value to multiple variables at once, we can do this as"
      ]
    },
    {
      "cell_type": "code",
      "metadata": {
        "id": "cy-bRQ-0Jp18",
        "colab_type": "code",
        "colab": {},
        "outputId": "81792b85-614e-4cda-e9d2-4a09a55ee8e9"
      },
      "source": [
        "x = y = z = \"same\"\n",
        "\n",
        "print (x)\n",
        "print (y)\n",
        "print (z)"
      ],
      "execution_count": 0,
      "outputs": [
        {
          "output_type": "stream",
          "text": [
            "same\n",
            "same\n",
            "same\n"
          ],
          "name": "stdout"
        }
      ]
    },
    {
      "cell_type": "markdown",
      "metadata": {
        "collapsed": false,
        "id": "vKraUAayJp1-",
        "colab_type": "text"
      },
      "source": [
        "The second program assigns the same string to all the three variables `x`, `y` and `z`."
      ]
    },
    {
      "cell_type": "markdown",
      "metadata": {
        "collapsed": false,
        "id": "wc3yYJyjJp1_",
        "colab_type": "text"
      },
      "source": [
        "## Constants\n"
      ]
    },
    {
      "cell_type": "markdown",
      "metadata": {
        "collapsed": false,
        "id": "u5uRlENyJp1_",
        "colab_type": "text"
      },
      "source": [
        "A constant is a type of variable whose value cannot be changed. It is helpful to think of constants as containers that hold information which cannot be changed later.\n",
        "\n",
        "Non technically, you can think of constant as a bag to store some books and those books cannot be replaced once placed inside the bag.\n",
        "\n"
      ]
    },
    {
      "cell_type": "markdown",
      "metadata": {
        "collapsed": false,
        "id": "l9IlFiwQJp1_",
        "colab_type": "text"
      },
      "source": [
        "### Assigning value to a constant in Python\n"
      ]
    },
    {
      "cell_type": "markdown",
      "metadata": {
        "collapsed": false,
        "id": "XqvnCs9dJp2A",
        "colab_type": "text"
      },
      "source": [
        "In Python, constants are usually declared and assigned on a module. Here, the module means a new file containing variables, functions etc which is imported to main file. Inside the module, constants are written in all capital letters and underscores separating the words."
      ]
    },
    {
      "cell_type": "markdown",
      "metadata": {
        "collapsed": false,
        "id": "MhTURDnJJp2A",
        "colab_type": "text"
      },
      "source": [
        "## Rules and Naming Convention for Variables and constants\n",
        "\n"
      ]
    },
    {
      "cell_type": "markdown",
      "metadata": {
        "collapsed": false,
        "id": "lmVGxhEMJp2A",
        "colab_type": "text"
      },
      "source": [
        "1. Constant and variable names should have a combination of letters in lowercase `(a to z)` or uppercase `(A to Z)` or digits `(0 to 9)` or an underscore `_`. For example:"
      ]
    },
    {
      "cell_type": "code",
      "metadata": {
        "id": "nPl3DXI5Jp2B",
        "colab_type": "code",
        "colab": {}
      },
      "source": [
        "snake_case = \"text\"\n",
        "MACRO_CASE = \"text\"\n",
        "camelCase = \"text\"\n",
        "CapWords = \"text\""
      ],
      "execution_count": 0,
      "outputs": []
    },
    {
      "cell_type": "markdown",
      "metadata": {
        "collapsed": false,
        "id": "vsS-hTM3Jp2C",
        "colab_type": "text"
      },
      "source": [
        "2. Create a name that makes sense. For example, `vowel` makes more sense than `v`.\n",
        "3.  If you want to create a variable name having two words, use underscore to separate them. For example:"
      ]
    },
    {
      "cell_type": "code",
      "metadata": {
        "id": "Kf_9tKXnJp2D",
        "colab_type": "code",
        "colab": {}
      },
      "source": [
        "my_name = \"text\"\n",
        "current_salary = \"text\""
      ],
      "execution_count": 0,
      "outputs": []
    },
    {
      "cell_type": "markdown",
      "metadata": {
        "collapsed": false,
        "id": "Ddq1m0gxJp2F",
        "colab_type": "text"
      },
      "source": [
        "4. Use capital letters possible to declare a constant. For example:"
      ]
    },
    {
      "cell_type": "code",
      "metadata": {
        "id": "qccVE-0QJp2F",
        "colab_type": "code",
        "colab": {}
      },
      "source": [
        "PI = 3.14\n",
        "G = 9.8 \n",
        "MEANING_OF_LIFE = 42\n",
        "SPEED_OF_LIGHT = 299792458\n",
        "TEMP = 5"
      ],
      "execution_count": 0,
      "outputs": []
    },
    {
      "cell_type": "markdown",
      "metadata": {
        "collapsed": false,
        "id": "3mybEx0jJp2J",
        "colab_type": "text"
      },
      "source": [
        "5. Never use special symbols like **!, @, \\#, \\$, \\%,** etc.\n",
        "6. Don't start a variable name with a digit."
      ]
    },
    {
      "cell_type": "markdown",
      "metadata": {
        "collapsed": false,
        "id": "w5PMNltMJp2J",
        "colab_type": "text"
      },
      "source": [
        "## Literals"
      ]
    },
    {
      "cell_type": "markdown",
      "metadata": {
        "collapsed": false,
        "id": "ra6R67pPJp2K",
        "colab_type": "text"
      },
      "source": [
        "Literal is a raw data given in a variable or constant. In Python, there are various types of literals they are as follows:"
      ]
    },
    {
      "cell_type": "markdown",
      "metadata": {
        "collapsed": false,
        "id": "gXUwxk7MJp2K",
        "colab_type": "text"
      },
      "source": [
        "### Numeric Literals"
      ]
    },
    {
      "cell_type": "markdown",
      "metadata": {
        "collapsed": false,
        "id": "K1u1wWP9Jp2L",
        "colab_type": "text"
      },
      "source": [
        "Numeric Literals are immutable (unchangeable). Numeric literals can belong to 3 different numerical types Integer, Float, and Complex.\n",
        "\n"
      ]
    },
    {
      "cell_type": "markdown",
      "metadata": {
        "collapsed": false,
        "id": "B2GjtNAHJp2L",
        "colab_type": "text"
      },
      "source": [
        "**Example: How to use Numeric literals in Python?**"
      ]
    },
    {
      "cell_type": "code",
      "metadata": {
        "id": "kEM4VJlvJp2M",
        "colab_type": "code",
        "colab": {},
        "outputId": "62ebb57d-f3e9-4268-ba5d-6f71b49254a4"
      },
      "source": [
        "a = 0b1010 #Binary Literals\n",
        "b = 100 #Decimal Literal \n",
        "c = 0o310 #Octal Literal\n",
        "d = 0x12c #Hexadecimal Literal\n",
        "\n",
        "#Float Literal\n",
        "float_1 = 10.5 \n",
        "float_2 = 1.5e2\n",
        "\n",
        "#Complex Literal \n",
        "x = 3.14j\n",
        "\n",
        "print(a, b, c, d)\n",
        "print(float_1, float_2)\n",
        "print(x, x.imag, x.real)"
      ],
      "execution_count": 0,
      "outputs": [
        {
          "output_type": "stream",
          "text": [
            "10 100 200 300\n",
            "10.5 150.0\n",
            "3.14j 3.14 0.0\n"
          ],
          "name": "stdout"
        }
      ]
    },
    {
      "cell_type": "markdown",
      "metadata": {
        "collapsed": false,
        "id": "jlK21ZdAJp2O",
        "colab_type": "text"
      },
      "source": [
        "In the above program,"
      ]
    },
    {
      "cell_type": "markdown",
      "metadata": {
        "collapsed": false,
        "id": "Wbn_ywSwJp2P",
        "colab_type": "text"
      },
      "source": [
        "- We assigned integer literals into different variables. Here, `a` is binary literal, `b` is a decimal literal, `c` is an octal literal and `d` is a hexadecimal literal.\n",
        "- When we print the variables, all the literals are converted into decimal values.\n",
        "- 10.5 and 1.5e2 are floating-point literals. 1.5e2 is expressed with exponential and is equivalent to `1.5 * 102`.\n",
        "- We assigned a complex literal i.e 3.14j in variable x. Then we use imaginary literal (x.imag) and real literal (x.real) to create imaginary and real part of complex number."
      ]
    },
    {
      "cell_type": "markdown",
      "metadata": {
        "collapsed": false,
        "id": "bWd8r4ouJp2P",
        "colab_type": "text"
      },
      "source": [
        "### String literals"
      ]
    },
    {
      "cell_type": "markdown",
      "metadata": {
        "collapsed": false,
        "id": "DMXkE_-DJp2P",
        "colab_type": "text"
      },
      "source": [
        "A string literal is a sequence of characters surrounded by quotes. We can use both single, double or triple quotes for a string. And, a character literal is a single character surrounded by single or double quotes."
      ]
    },
    {
      "cell_type": "markdown",
      "metadata": {
        "collapsed": false,
        "id": "ENWlgB1LJp2Q",
        "colab_type": "text"
      },
      "source": [
        "**Example : How to use string literals in Python?**"
      ]
    },
    {
      "cell_type": "code",
      "metadata": {
        "id": "Tt6jI7a8Jp2Q",
        "colab_type": "code",
        "colab": {},
        "outputId": "a3284aa4-5ffb-4d48-8cfd-b84d97624d88"
      },
      "source": [
        "strings = \"This is Python\"\n",
        "char = \"C\"\n",
        "multiline_str = \"\"\"This is a multiline string with more than one line code.\"\"\"\n",
        "unicode = u\"\\u00dcnic\\u00f6de\"\n",
        "raw_str = r\"raw \\n string\"\n",
        "\n",
        "print(strings)\n",
        "print(char)\n",
        "print(multiline_str)\n",
        "print(unicode)\n",
        "print(raw_str)"
      ],
      "execution_count": 0,
      "outputs": [
        {
          "output_type": "stream",
          "text": [
            "This is Python\n",
            "C\n",
            "This is a multiline string with more than one line code.\n",
            "Ünicöde\n",
            "raw \\n string\n"
          ],
          "name": "stdout"
        }
      ]
    },
    {
      "cell_type": "markdown",
      "metadata": {
        "collapsed": false,
        "id": "NutpTMZLJp2T",
        "colab_type": "text"
      },
      "source": [
        "In the above program,`This is Python` is a string literal and `C` is a character literal. The value with triple-quote `\"` `\"` `\"` assigned in the `multiline_str` is multi-line string literal. The `u\"\\u00dcnic\\u00f6de\"` is a unicode literal which supports characters other than English and `r\"raw \\n string\"` is a raw string literal."
      ]
    },
    {
      "cell_type": "markdown",
      "metadata": {
        "collapsed": false,
        "id": "cWX_BmW-Jp2T",
        "colab_type": "text"
      },
      "source": [
        "### Boolean literals"
      ]
    },
    {
      "cell_type": "markdown",
      "metadata": {
        "collapsed": false,
        "id": "yvJQFIxUJp2T",
        "colab_type": "text"
      },
      "source": [
        "A Boolean literal can have any of the two values: `True` or `False`.\n",
        "\n",
        "**Example: How to use boolean literals in Python?**"
      ]
    },
    {
      "cell_type": "code",
      "metadata": {
        "id": "eeHV8ynmJp2U",
        "colab_type": "code",
        "colab": {},
        "outputId": "8ee40f5d-856c-4d61-f3eb-c5b1c79f462b"
      },
      "source": [
        "x = (1 == True)\n",
        "y = (1 == False)\n",
        "a = True + 4\n",
        "b = False + 10\n",
        "\n",
        "print(\"x is\", x)\n",
        "print(\"y is\", y)\n",
        "print(\"a:\", a)\n",
        "print(\"b:\", b)"
      ],
      "execution_count": 0,
      "outputs": [
        {
          "output_type": "stream",
          "text": [
            "x is True\n",
            "y is False\n",
            "a: 5\n",
            "b: 10\n"
          ],
          "name": "stdout"
        }
      ]
    },
    {
      "cell_type": "markdown",
      "metadata": {
        "collapsed": false,
        "id": "vP3uaPtRJp2W",
        "colab_type": "text"
      },
      "source": [
        "In the above program, we use boolean literal `True` and `False`. In Python, `True` represents the value as `1` and `False` as `0`. The value of `x` is `True` because `1` is equal to `True`. And, the value of `y` is `False` because `1` is not equal to `False`.\n",
        "\n",
        "Similarly, we can use the `True` and `False` in numeric expressions as the value. The value of `a` is `5` because we add `True` which has value of `1` with `4`. Similarly, `b` is `10` because we add the `False` having value of `0` with `10`."
      ]
    },
    {
      "cell_type": "markdown",
      "metadata": {
        "collapsed": false,
        "id": "qCjEVUvfJp2W",
        "colab_type": "text"
      },
      "source": [
        "### Special literals"
      ]
    },
    {
      "cell_type": "markdown",
      "metadata": {
        "collapsed": false,
        "id": "nhwO1klIJp2X",
        "colab_type": "text"
      },
      "source": [
        "Python contains one special literal i.e. None. We use it to specify to that field that is not created."
      ]
    },
    {
      "cell_type": "code",
      "metadata": {
        "id": "VDOKXqL2Jp2X",
        "colab_type": "code",
        "colab": {},
        "outputId": "25b38bab-9f2b-40b5-b996-505dfacc2bd6"
      },
      "source": [
        "drink = \"Available\"\n",
        "food = None\n",
        "\n",
        "def menu(x):\n",
        "    if x == drink:\n",
        "        print(drink)\n",
        "    else:\n",
        "        print(food)\n",
        "\n",
        "menu(drink)\n",
        "menu(food)"
      ],
      "execution_count": 0,
      "outputs": [
        {
          "output_type": "stream",
          "text": [
            "Available\n",
            "None\n"
          ],
          "name": "stdout"
        }
      ]
    },
    {
      "cell_type": "markdown",
      "metadata": {
        "collapsed": false,
        "id": "5PakRRa3Jp2Z",
        "colab_type": "text"
      },
      "source": [
        "In the above program, we define a `menu` function. Inside `menu`, when we set parameter as `drink` then, it displays `Available`. And, when the parameter is `food`, it displays `None`."
      ]
    },
    {
      "cell_type": "markdown",
      "metadata": {
        "collapsed": false,
        "id": "ZivGH6kVJp2Z",
        "colab_type": "text"
      },
      "source": [
        "### Literal Collections"
      ]
    },
    {
      "cell_type": "markdown",
      "metadata": {
        "collapsed": false,
        "id": "jH1bgBZdJp2a",
        "colab_type": "text"
      },
      "source": [
        "There are four different literal collections List literals, Tuple literals, Dict literals, and Set literals.\n",
        "\n",
        "**Example: How to use literals collections in Python?**"
      ]
    },
    {
      "cell_type": "code",
      "metadata": {
        "id": "nVAD7muCJp2b",
        "colab_type": "code",
        "colab": {},
        "outputId": "c2acecdd-f2eb-49e3-f318-47a2837b7743"
      },
      "source": [
        "fruits = [\"apple\", \"mango\", \"orange\"] #list\n",
        "numbers = (1, 2, 3) #tuple\n",
        "alphabets = {'a':'apple', 'b':'ball', 'c':'cat'} #dictionary\n",
        "vowels = {'a', 'e', 'i' , 'o', 'u'} #set\n",
        "\n",
        "print(fruits)\n",
        "print(numbers)\n",
        "print(alphabets)\n",
        "print(vowels)"
      ],
      "execution_count": 0,
      "outputs": [
        {
          "output_type": "stream",
          "text": [
            "['apple', 'mango', 'orange']\n",
            "(1, 2, 3)\n",
            "{'a': 'apple', 'b': 'ball', 'c': 'cat'}\n",
            "{'a', 'o', 'e', 'u', 'i'}\n"
          ],
          "name": "stdout"
        }
      ]
    },
    {
      "cell_type": "markdown",
      "metadata": {
        "collapsed": false,
        "id": "FARdSp9vJp2d",
        "colab_type": "text"
      },
      "source": [
        "In the above program, we created a list of `fruits`, tuple of `numbers`, dictionary `dict` having values with keys desginated to each value and set of `vowels`."
      ]
    },
    {
      "cell_type": "markdown",
      "metadata": {
        "collapsed": false,
        "id": "Et5zlWk5Jp2d",
        "colab_type": "text"
      },
      "source": [
        "# Data Types"
      ]
    },
    {
      "cell_type": "markdown",
      "metadata": {
        "collapsed": false,
        "id": "QyJE85C4Jp2d",
        "colab_type": "text"
      },
      "source": [
        "In this section, you will learn about different data types you can use in Python.\n",
        "\n"
      ]
    },
    {
      "cell_type": "markdown",
      "metadata": {
        "collapsed": false,
        "id": "CJIhQb3xJp2e",
        "colab_type": "text"
      },
      "source": [
        "## Data types in Python"
      ]
    },
    {
      "cell_type": "markdown",
      "metadata": {
        "collapsed": false,
        "id": "OZioN3LNJp2e",
        "colab_type": "text"
      },
      "source": [
        "Every value in Python has a datatype. Since everything is an object in Python programming, data types are actually classes and variables are instance (object) of these classes.\n",
        "\n",
        "There are various data types in Python. Some of the important types are listed below.\n",
        "\n"
      ]
    },
    {
      "cell_type": "markdown",
      "metadata": {
        "collapsed": false,
        "id": "BYqksMuFJp2e",
        "colab_type": "text"
      },
      "source": [
        "### Python Numbers"
      ]
    },
    {
      "cell_type": "markdown",
      "metadata": {
        "collapsed": false,
        "id": "NPPyBW7XJp2f",
        "colab_type": "text"
      },
      "source": [
        "Integers, floating point numbers and complex numbers falls under *Python numbers* category. They are defined as `int`, `float` and `complex` class in Python.\n",
        "\n",
        "We can use the `type()` function to know which class a variable or a value belongs to and the `isinstance()` function to check if an object belongs to a particular class."
      ]
    },
    {
      "cell_type": "code",
      "metadata": {
        "id": "umIdRF4MJp2g",
        "colab_type": "code",
        "colab": {},
        "outputId": "ec30ca2c-db62-498b-9813-1bb0610b013e"
      },
      "source": [
        "a = 5\n",
        "print(a, \"is of type\", type(a))\n",
        "\n",
        "a = 2.0\n",
        "print(a, \"is of type\", type(a))\n",
        "\n",
        "a = 1+2j\n",
        "print(a, \"is complex number?\", isinstance(1+2j,complex))"
      ],
      "execution_count": 0,
      "outputs": [
        {
          "output_type": "stream",
          "text": [
            "5 is of type <class 'int'>\n",
            "2.0 is of type <class 'float'>\n",
            "(1+2j) is complex number? True\n"
          ],
          "name": "stdout"
        }
      ]
    },
    {
      "cell_type": "markdown",
      "metadata": {
        "collapsed": false,
        "id": "JrkjmyTNJp2i",
        "colab_type": "text"
      },
      "source": [
        "Integers can be of any length, it is only limited by the memory available.\n",
        "\n",
        "A floating point number is accurate up to 15 decimal places. Integer and floating points are separated by decimal points. `1` is integer, `1.0` is floating point number.\n",
        "\n",
        "Complex numbers are written in the form, `x + yj`, where `x` is the real part and `y` is the imaginary part. Here are some examples."
      ]
    },
    {
      "cell_type": "code",
      "metadata": {
        "id": "_0LWweq7Jp2i",
        "colab_type": "code",
        "colab": {},
        "outputId": "c447fb75-ebb3-428b-fcfd-278dd9e9ad66"
      },
      "source": [
        "a = 1234567890123456789\n",
        "print(a)"
      ],
      "execution_count": 0,
      "outputs": [
        {
          "output_type": "stream",
          "text": [
            "1234567890123456789\n"
          ],
          "name": "stdout"
        }
      ]
    },
    {
      "cell_type": "code",
      "metadata": {
        "id": "rFt2cF4BJp2k",
        "colab_type": "code",
        "colab": {},
        "outputId": "54e72fcc-c381-495d-8860-2b3ddfc6c927"
      },
      "source": [
        "b = 0.1234567890123456789\n",
        "print(b)"
      ],
      "execution_count": 0,
      "outputs": [
        {
          "output_type": "stream",
          "text": [
            "0.12345678901234568\n"
          ],
          "name": "stdout"
        }
      ]
    },
    {
      "cell_type": "code",
      "metadata": {
        "id": "1SMzFO0SJp2n",
        "colab_type": "code",
        "colab": {},
        "outputId": "a1799294-291f-4d74-d00a-22e2a1d8d992"
      },
      "source": [
        "c = 1+2j\n",
        "print(c)"
      ],
      "execution_count": 0,
      "outputs": [
        {
          "output_type": "stream",
          "text": [
            "(1+2j)\n"
          ],
          "name": "stdout"
        }
      ]
    },
    {
      "cell_type": "markdown",
      "metadata": {
        "collapsed": false,
        "id": "ylKybG5gJp2q",
        "colab_type": "text"
      },
      "source": [
        "Notice that the `float` variable `b` got truncated."
      ]
    },
    {
      "cell_type": "markdown",
      "metadata": {
        "collapsed": false,
        "id": "0-Ac6genJp2q",
        "colab_type": "text"
      },
      "source": [
        "### Python List"
      ]
    },
    {
      "cell_type": "markdown",
      "metadata": {
        "collapsed": false,
        "id": "GfXSeHQyJp2r",
        "colab_type": "text"
      },
      "source": [
        "`List` is an ordered sequence of items. It is one of the most used datatype in Python and is very flexible. All the items in a list do not need to be of the same type."
      ]
    },
    {
      "cell_type": "markdown",
      "metadata": {
        "collapsed": false,
        "id": "ozjyIdRdJp2r",
        "colab_type": "text"
      },
      "source": [
        "Declaring a list is pretty straight forward. Items separated by commas are enclosed within brackets `[` `]`."
      ]
    },
    {
      "cell_type": "code",
      "metadata": {
        "id": "BpY-KWXeJp2s",
        "colab_type": "code",
        "colab": {}
      },
      "source": [
        "a = [1, 2.2, 'python']"
      ],
      "execution_count": 0,
      "outputs": []
    },
    {
      "cell_type": "markdown",
      "metadata": {
        "collapsed": false,
        "id": "L4zFG605Jp2v",
        "colab_type": "text"
      },
      "source": [
        "We can use the slicing operator `[` `]`` to extract an item or a range of items from a list. Index starts form 0 in Python."
      ]
    },
    {
      "cell_type": "code",
      "metadata": {
        "id": "083xbtjYJp2v",
        "colab_type": "code",
        "colab": {},
        "outputId": "eba352c3-90cc-416b-a626-a1ad6918bf37"
      },
      "source": [
        "a = [5,10,15,20,25,30,35,40]\n",
        "\n",
        "# a[2] = 15\n",
        "print(\"a[2] = \", a[2])\n",
        "\n",
        "# a[0:3] = [5, 10, 15]\n",
        "print(\"a[0:3] = \", a[0:3])\n",
        "\n",
        "# a[5:] = [30, 35, 40]\n",
        "print(\"a[5:] = \", a[5:])"
      ],
      "execution_count": 0,
      "outputs": [
        {
          "output_type": "stream",
          "text": [
            "a[2] =  15\n",
            "a[0:3] =  [5, 10, 15]\n",
            "a[5:] =  [30, 35, 40]\n"
          ],
          "name": "stdout"
        }
      ]
    },
    {
      "cell_type": "markdown",
      "metadata": {
        "collapsed": false,
        "id": "-gxe2yAQJp2z",
        "colab_type": "text"
      },
      "source": [
        "Lists are mutable, meaning, value of elements of a list can be altered."
      ]
    },
    {
      "cell_type": "code",
      "metadata": {
        "id": "AyxYWeYAJp20",
        "colab_type": "code",
        "colab": {},
        "outputId": "d2e8fef1-f637-4306-9dd7-53f95154987b"
      },
      "source": [
        "a = [1,2,3]\n",
        "a[2]=4\n",
        "print(a)"
      ],
      "execution_count": 0,
      "outputs": [
        {
          "output_type": "stream",
          "text": [
            "[1, 2, 4]\n"
          ],
          "name": "stdout"
        }
      ]
    },
    {
      "cell_type": "markdown",
      "metadata": {
        "collapsed": false,
        "id": "1eminrOGJp23",
        "colab_type": "text"
      },
      "source": [
        "### Python Tuple"
      ]
    },
    {
      "cell_type": "markdown",
      "metadata": {
        "collapsed": false,
        "id": "-D65LhIzJp23",
        "colab_type": "text"
      },
      "source": [
        "Tuple is an ordered sequence of items same as list.The only difference is that tuples are immutable. Tuples once created cannot be modified.\n",
        "\n",
        "Tuples are used to write-protect data and are usually faster than list as it cannot change dynamically.\n",
        "\n",
        "It is defined within parentheses `()` where items are separated by commas."
      ]
    },
    {
      "cell_type": "code",
      "metadata": {
        "id": "vKs7kFBLJp24",
        "colab_type": "code",
        "colab": {},
        "outputId": "8498842b-36c2-4f5f-cbd7-1d541c7928fd"
      },
      "source": [
        "t = (5,'program', 1+3j) \n",
        "print(t)"
      ],
      "execution_count": 0,
      "outputs": [
        {
          "output_type": "stream",
          "text": [
            "(5, 'program', (1+3j))\n"
          ],
          "name": "stdout"
        }
      ]
    },
    {
      "cell_type": "markdown",
      "metadata": {
        "collapsed": false,
        "id": "syeAU-UvJp26",
        "colab_type": "text"
      },
      "source": [
        "We can use the slicing operator `[` `]` to extract items but we cannot change its value."
      ]
    },
    {
      "cell_type": "code",
      "metadata": {
        "id": "UhNZ0AwyJp27",
        "colab_type": "code",
        "colab": {},
        "outputId": "531adfc0-750e-4526-eae9-82c8851b22b7"
      },
      "source": [
        "t = (5,'program', 1+3j)\n",
        "\n",
        "# t[1] = 'program'\n",
        "print(\"t[1] = \", t[1])\n",
        "\n",
        "# t[0:3] = (5, 'program', (1+3j))\n",
        "print(\"t[0:3] = \", t[0:3])"
      ],
      "execution_count": 0,
      "outputs": [
        {
          "output_type": "stream",
          "text": [
            "t[1] =  program\n",
            "t[0:3] =  (5, 'program', (1+3j))\n"
          ],
          "name": "stdout"
        }
      ]
    },
    {
      "cell_type": "code",
      "metadata": {
        "id": "ud8_Hd4rJp29",
        "colab_type": "code",
        "colab": {},
        "outputId": "512e07bb-a30b-4f89-d33c-1c9b0013656f"
      },
      "source": [
        "# Generates error\n",
        "# Tuples are immutable\n",
        "t[0] = 10"
      ],
      "execution_count": 0,
      "outputs": [
        {
          "output_type": "error",
          "ename": "TypeError",
          "evalue": "'tuple' object does not support item assignment",
          "traceback": [
            "\u001b[0;31m---------------------------------------------------------------------------\u001b[0m",
            "\u001b[0;31mTypeError\u001b[0m                                 Traceback (most recent call last)",
            "\u001b[0;32m<ipython-input-46-dfb88db5faa2>\u001b[0m in \u001b[0;36m<module>\u001b[0;34m\u001b[0m\n\u001b[1;32m      1\u001b[0m \u001b[0;31m# Generates error\u001b[0m\u001b[0;34m\u001b[0m\u001b[0;34m\u001b[0m\u001b[0;34m\u001b[0m\u001b[0m\n\u001b[1;32m      2\u001b[0m \u001b[0;31m# Tuples are immutable\u001b[0m\u001b[0;34m\u001b[0m\u001b[0;34m\u001b[0m\u001b[0;34m\u001b[0m\u001b[0m\n\u001b[0;32m----> 3\u001b[0;31m \u001b[0mt\u001b[0m\u001b[0;34m[\u001b[0m\u001b[0;36m0\u001b[0m\u001b[0;34m]\u001b[0m \u001b[0;34m=\u001b[0m \u001b[0;36m10\u001b[0m\u001b[0;34m\u001b[0m\u001b[0;34m\u001b[0m\u001b[0m\n\u001b[0m",
            "\u001b[0;31mTypeError\u001b[0m: 'tuple' object does not support item assignment"
          ]
        }
      ]
    },
    {
      "cell_type": "markdown",
      "metadata": {
        "collapsed": false,
        "id": "GL3J7jw2Jp3A",
        "colab_type": "text"
      },
      "source": [
        "### Python Strings"
      ]
    },
    {
      "cell_type": "markdown",
      "metadata": {
        "collapsed": false,
        "id": "eoyiC5_bJp3B",
        "colab_type": "text"
      },
      "source": [
        "String is sequence of Unicode characters. We can use single quotes or double quotes to represent strings. Multi-line strings can be denoted using triple quotes, \\' \\' \\' or \\\" \\\" \\\"."
      ]
    },
    {
      "cell_type": "code",
      "metadata": {
        "id": "L0AGZ_YzJp3B",
        "colab_type": "code",
        "colab": {}
      },
      "source": [
        "s = \"This is a string\"\n",
        "s = '''a multiline\n",
        "dumdiedum lalala '''"
      ],
      "execution_count": 0,
      "outputs": []
    },
    {
      "cell_type": "markdown",
      "metadata": {
        "collapsed": false,
        "id": "JLyFbw-DJp3E",
        "colab_type": "text"
      },
      "source": [
        "Like list and tuple, slicing operator `[` `]` can be used with string. Strings are immutable."
      ]
    },
    {
      "cell_type": "code",
      "metadata": {
        "id": "tWmwW4ZJJp3E",
        "colab_type": "code",
        "colab": {},
        "outputId": "cac03042-75fb-4957-8cc2-a1bdf3674bbc"
      },
      "source": [
        "s = 'Hello world!'\n",
        "\n",
        "# s[4] = 'o'\n",
        "print(\"s[4] = \", s[4])\n",
        "\n",
        "# s[6:11] = 'world'\n",
        "print(\"s[6:11] = \", s[6:11])"
      ],
      "execution_count": 0,
      "outputs": [
        {
          "output_type": "stream",
          "text": [
            "s[4] =  o\n",
            "s[6:11] =  world\n"
          ],
          "name": "stdout"
        }
      ]
    },
    {
      "cell_type": "code",
      "metadata": {
        "id": "W2Nc9w0NJp3H",
        "colab_type": "code",
        "colab": {},
        "outputId": "4e2f6d5a-a7f7-4f34-ab84-82e7ea8d8e19"
      },
      "source": [
        "# Generates error\n",
        "# Strings are immutable in Python\n",
        "s[5] ='d'"
      ],
      "execution_count": 0,
      "outputs": [
        {
          "output_type": "error",
          "ename": "TypeError",
          "evalue": "'str' object does not support item assignment",
          "traceback": [
            "\u001b[0;31m---------------------------------------------------------------------------\u001b[0m",
            "\u001b[0;31mTypeError\u001b[0m                                 Traceback (most recent call last)",
            "\u001b[0;32m<ipython-input-51-56479932d133>\u001b[0m in \u001b[0;36m<module>\u001b[0;34m\u001b[0m\n\u001b[1;32m      1\u001b[0m \u001b[0;31m# Generates error\u001b[0m\u001b[0;34m\u001b[0m\u001b[0;34m\u001b[0m\u001b[0;34m\u001b[0m\u001b[0m\n\u001b[1;32m      2\u001b[0m \u001b[0;31m# Strings are immutable in Python\u001b[0m\u001b[0;34m\u001b[0m\u001b[0;34m\u001b[0m\u001b[0;34m\u001b[0m\u001b[0m\n\u001b[0;32m----> 3\u001b[0;31m \u001b[0ms\u001b[0m\u001b[0;34m[\u001b[0m\u001b[0;36m5\u001b[0m\u001b[0;34m]\u001b[0m \u001b[0;34m=\u001b[0m\u001b[0;34m'd'\u001b[0m\u001b[0;34m\u001b[0m\u001b[0;34m\u001b[0m\u001b[0m\n\u001b[0m",
            "\u001b[0;31mTypeError\u001b[0m: 'str' object does not support item assignment"
          ]
        }
      ]
    },
    {
      "cell_type": "markdown",
      "metadata": {
        "collapsed": false,
        "id": "zDK18Z10Jp3K",
        "colab_type": "text"
      },
      "source": [
        "### Python Set"
      ]
    },
    {
      "cell_type": "markdown",
      "metadata": {
        "collapsed": false,
        "id": "p4MWDoebJp3L",
        "colab_type": "text"
      },
      "source": [
        "`Set` is an unordered collection of unique items. Set is defined by values separated by comma inside braces `{` `}`. Items in a set are not ordered."
      ]
    },
    {
      "cell_type": "code",
      "metadata": {
        "id": "LOrV-FK4Jp3L",
        "colab_type": "code",
        "colab": {},
        "outputId": "6caafb50-ecdc-4506-cb8a-dec3e0f0cc12"
      },
      "source": [
        "a = {5,2,3,1,4}\n",
        "\n",
        "# printing set variable\n",
        "print(\"a = \", a)\n",
        "\n",
        "# data type of variable a\n",
        "print(type(a))"
      ],
      "execution_count": 0,
      "outputs": [
        {
          "output_type": "stream",
          "text": [
            "a =  {1, 2, 3, 4, 5}\n",
            "<class 'set'>\n"
          ],
          "name": "stdout"
        }
      ]
    },
    {
      "cell_type": "markdown",
      "metadata": {
        "collapsed": false,
        "id": "1kSrJ9X2Jp3P",
        "colab_type": "text"
      },
      "source": [
        "We can perform set operations like union, intersection on two sets. Set have unique values. They eliminate duplicates."
      ]
    },
    {
      "cell_type": "code",
      "metadata": {
        "id": "Qzaor8QRJp3Q",
        "colab_type": "code",
        "colab": {},
        "outputId": "69180600-0eff-47b1-82c6-9b7270e148b7"
      },
      "source": [
        "a = {1,2,2,3,3,3}\n",
        "print(a)"
      ],
      "execution_count": 0,
      "outputs": [
        {
          "output_type": "stream",
          "text": [
            "{1, 2, 3}\n"
          ],
          "name": "stdout"
        }
      ]
    },
    {
      "cell_type": "markdown",
      "metadata": {
        "collapsed": false,
        "id": "YpY8EclzJp3T",
        "colab_type": "text"
      },
      "source": [
        "Since, set are unordered collection, indexing has no meaning. Hence the slicing operator `[` `]` does not work."
      ]
    },
    {
      "cell_type": "code",
      "metadata": {
        "id": "bjA_0YNhJp3T",
        "colab_type": "code",
        "colab": {},
        "outputId": "877e51b4-ff0b-466e-d26e-da95230cbf9d"
      },
      "source": [
        "a = {1,2,3}\n",
        "print(a[1])"
      ],
      "execution_count": 0,
      "outputs": [
        {
          "output_type": "error",
          "ename": "TypeError",
          "evalue": "'set' object does not support indexing",
          "traceback": [
            "\u001b[0;31m---------------------------------------------------------------------------\u001b[0m",
            "\u001b[0;31mTypeError\u001b[0m                                 Traceback (most recent call last)",
            "\u001b[0;32m<ipython-input-56-3732f14f209e>\u001b[0m in \u001b[0;36m<module>\u001b[0;34m\u001b[0m\n\u001b[1;32m      1\u001b[0m \u001b[0ma\u001b[0m \u001b[0;34m=\u001b[0m \u001b[0;34m{\u001b[0m\u001b[0;36m1\u001b[0m\u001b[0;34m,\u001b[0m\u001b[0;36m2\u001b[0m\u001b[0;34m,\u001b[0m\u001b[0;36m3\u001b[0m\u001b[0;34m}\u001b[0m\u001b[0;34m\u001b[0m\u001b[0;34m\u001b[0m\u001b[0m\n\u001b[0;32m----> 2\u001b[0;31m \u001b[0mprint\u001b[0m\u001b[0;34m(\u001b[0m\u001b[0ma\u001b[0m\u001b[0;34m[\u001b[0m\u001b[0;36m1\u001b[0m\u001b[0;34m]\u001b[0m\u001b[0;34m)\u001b[0m\u001b[0;34m\u001b[0m\u001b[0;34m\u001b[0m\u001b[0m\n\u001b[0m",
            "\u001b[0;31mTypeError\u001b[0m: 'set' object does not support indexing"
          ]
        }
      ]
    },
    {
      "cell_type": "markdown",
      "metadata": {
        "collapsed": false,
        "id": "Bo6goyMXJp3X",
        "colab_type": "text"
      },
      "source": [
        "### Python Dictionary"
      ]
    },
    {
      "cell_type": "markdown",
      "metadata": {
        "collapsed": false,
        "id": "XtbhnQyXJp3X",
        "colab_type": "text"
      },
      "source": [
        "`Dictionary` is an unordered collection of key-value pairs.\n",
        "\n",
        "It is generally used when we have a huge amount of data. Dictionaries are optimized for retrieving data. We must know the key to retrieve the value.\n",
        "\n",
        "In Python, dictionaries are defined within braces `{` `}` with each item being a pair in the form `key:value`. Key and value can be of any type."
      ]
    },
    {
      "cell_type": "code",
      "metadata": {
        "id": "XIyKvg5gJp3Y",
        "colab_type": "code",
        "colab": {},
        "outputId": "11944d26-dba9-43f8-ae56-b941dfa8d06e"
      },
      "source": [
        "d = {1:'value','key':2}\n",
        "type(d)"
      ],
      "execution_count": 0,
      "outputs": [
        {
          "output_type": "execute_result",
          "data": {
            "text/plain": [
              "dict"
            ]
          },
          "metadata": {
            "tags": []
          },
          "execution_count": 57
        }
      ]
    },
    {
      "cell_type": "markdown",
      "metadata": {
        "collapsed": false,
        "id": "huoDVI-1Jp3a",
        "colab_type": "text"
      },
      "source": [
        "We use key to retrieve the respective value. But not the other way around."
      ]
    },
    {
      "cell_type": "code",
      "metadata": {
        "id": "RIfRifoZJp3a",
        "colab_type": "code",
        "colab": {},
        "outputId": "fdf1729e-33d1-484b-f581-5391c2867d8f"
      },
      "source": [
        "d = {1:'value','key':2}\n",
        "print(type(d))\n",
        "\n",
        "print(\"d[1] = \", d[1]);\n",
        "\n",
        "print(\"d['key'] = \", d['key']);"
      ],
      "execution_count": 0,
      "outputs": [
        {
          "output_type": "stream",
          "text": [
            "<class 'dict'>\n",
            "d[1] =  value\n",
            "d['key'] =  2\n"
          ],
          "name": "stdout"
        }
      ]
    },
    {
      "cell_type": "code",
      "metadata": {
        "id": "B9r_dzEBJp3c",
        "colab_type": "code",
        "colab": {},
        "outputId": "4603b5c8-5953-4b36-b0ee-e37f7b76ea13"
      },
      "source": [
        "# Generates error\n",
        "print(\"d[2] = \", d[2]);"
      ],
      "execution_count": 0,
      "outputs": [
        {
          "output_type": "error",
          "ename": "KeyError",
          "evalue": "2",
          "traceback": [
            "\u001b[0;31m---------------------------------------------------------------------------\u001b[0m",
            "\u001b[0;31mKeyError\u001b[0m                                  Traceback (most recent call last)",
            "\u001b[0;32m<ipython-input-59-f6f570674869>\u001b[0m in \u001b[0;36m<module>\u001b[0;34m\u001b[0m\n\u001b[1;32m      1\u001b[0m \u001b[0;31m# Generates error\u001b[0m\u001b[0;34m\u001b[0m\u001b[0;34m\u001b[0m\u001b[0;34m\u001b[0m\u001b[0m\n\u001b[0;32m----> 2\u001b[0;31m \u001b[0mprint\u001b[0m\u001b[0;34m(\u001b[0m\u001b[0;34m\"d[2] = \"\u001b[0m\u001b[0;34m,\u001b[0m \u001b[0md\u001b[0m\u001b[0;34m[\u001b[0m\u001b[0;36m2\u001b[0m\u001b[0;34m]\u001b[0m\u001b[0;34m)\u001b[0m\u001b[0;34m;\u001b[0m\u001b[0;34m\u001b[0m\u001b[0;34m\u001b[0m\u001b[0m\n\u001b[0m",
            "\u001b[0;31mKeyError\u001b[0m: 2"
          ]
        }
      ]
    },
    {
      "cell_type": "markdown",
      "metadata": {
        "collapsed": false,
        "id": "YTaGfe9NJp3h",
        "colab_type": "text"
      },
      "source": [
        "### Conversion between data types"
      ]
    },
    {
      "cell_type": "markdown",
      "metadata": {
        "collapsed": false,
        "id": "0yHNo3G4Jp3i",
        "colab_type": "text"
      },
      "source": [
        "We can convert between different data types by using different type conversion functions like `int()`, `float()`, `str()` etc."
      ]
    },
    {
      "cell_type": "code",
      "metadata": {
        "id": "QbT3Zz4XJp3i",
        "colab_type": "code",
        "colab": {},
        "outputId": "9ef77589-dd00-4829-87a3-d0af51241648"
      },
      "source": [
        "float(5)"
      ],
      "execution_count": 0,
      "outputs": [
        {
          "output_type": "execute_result",
          "data": {
            "text/plain": [
              "5.0"
            ]
          },
          "metadata": {
            "tags": []
          },
          "execution_count": 60
        }
      ]
    },
    {
      "cell_type": "markdown",
      "metadata": {
        "collapsed": false,
        "id": "adHANshlJp3m",
        "colab_type": "text"
      },
      "source": [
        "Conversion from float to int will truncate the value (make it closer to zero)."
      ]
    },
    {
      "cell_type": "code",
      "metadata": {
        "id": "Kzdulnv8Jp3m",
        "colab_type": "code",
        "colab": {},
        "outputId": "3a895b70-e107-4efe-83f0-8474c272a82b"
      },
      "source": [
        "int(10.6)"
      ],
      "execution_count": 0,
      "outputs": [
        {
          "output_type": "execute_result",
          "data": {
            "text/plain": [
              "10"
            ]
          },
          "metadata": {
            "tags": []
          },
          "execution_count": 61
        }
      ]
    },
    {
      "cell_type": "code",
      "metadata": {
        "id": "NCXfbNyCJp3p",
        "colab_type": "code",
        "colab": {},
        "outputId": "6b4f1e48-e47f-421b-abf3-59edb3512bff"
      },
      "source": [
        "int(-10.6)"
      ],
      "execution_count": 0,
      "outputs": [
        {
          "output_type": "execute_result",
          "data": {
            "text/plain": [
              "-10"
            ]
          },
          "metadata": {
            "tags": []
          },
          "execution_count": 62
        }
      ]
    },
    {
      "cell_type": "markdown",
      "metadata": {
        "collapsed": false,
        "id": "xd16Nkz0Jp3s",
        "colab_type": "text"
      },
      "source": [
        "Conversion to and from string must contain compatible values."
      ]
    },
    {
      "cell_type": "code",
      "metadata": {
        "id": "v5eA0AuUJp3s",
        "colab_type": "code",
        "colab": {},
        "outputId": "e7255764-2e3f-4ba3-f33a-e100e278511a"
      },
      "source": [
        "float('2.5')"
      ],
      "execution_count": 0,
      "outputs": [
        {
          "output_type": "execute_result",
          "data": {
            "text/plain": [
              "2.5"
            ]
          },
          "metadata": {
            "tags": []
          },
          "execution_count": 65
        }
      ]
    },
    {
      "cell_type": "code",
      "metadata": {
        "id": "c_XftX_UJp3v",
        "colab_type": "code",
        "colab": {},
        "outputId": "bac8aabe-0c0a-445c-9093-1b6c92404773"
      },
      "source": [
        "str(25)"
      ],
      "execution_count": 0,
      "outputs": [
        {
          "output_type": "execute_result",
          "data": {
            "text/plain": [
              "'25'"
            ]
          },
          "metadata": {
            "tags": []
          },
          "execution_count": 66
        }
      ]
    },
    {
      "cell_type": "code",
      "metadata": {
        "id": "F4ctaK9bJp3y",
        "colab_type": "code",
        "colab": {},
        "outputId": "e0b4e440-25af-4b0a-88f2-2413e70d7023"
      },
      "source": [
        "int('1p')"
      ],
      "execution_count": 0,
      "outputs": [
        {
          "output_type": "error",
          "ename": "ValueError",
          "evalue": "invalid literal for int() with base 10: '1p'",
          "traceback": [
            "\u001b[0;31m---------------------------------------------------------------------------\u001b[0m",
            "\u001b[0;31mValueError\u001b[0m                                Traceback (most recent call last)",
            "\u001b[0;32m<ipython-input-67-74ab929f204c>\u001b[0m in \u001b[0;36m<module>\u001b[0;34m\u001b[0m\n\u001b[0;32m----> 1\u001b[0;31m \u001b[0mint\u001b[0m\u001b[0;34m(\u001b[0m\u001b[0;34m'1p'\u001b[0m\u001b[0;34m)\u001b[0m\u001b[0;34m\u001b[0m\u001b[0;34m\u001b[0m\u001b[0m\n\u001b[0m",
            "\u001b[0;31mValueError\u001b[0m: invalid literal for int() with base 10: '1p'"
          ]
        }
      ]
    },
    {
      "cell_type": "markdown",
      "metadata": {
        "collapsed": false,
        "id": "tHG69aYSJp30",
        "colab_type": "text"
      },
      "source": [
        "We can even convert one sequence to another."
      ]
    },
    {
      "cell_type": "code",
      "metadata": {
        "id": "mm4i_K7OJp30",
        "colab_type": "code",
        "colab": {},
        "outputId": "cfd0fffb-76d6-40a7-8a44-7e65d7b818f6"
      },
      "source": [
        "set([1,2,3])"
      ],
      "execution_count": 0,
      "outputs": [
        {
          "output_type": "execute_result",
          "data": {
            "text/plain": [
              "{1, 2, 3}"
            ]
          },
          "metadata": {
            "tags": []
          },
          "execution_count": 68
        }
      ]
    },
    {
      "cell_type": "code",
      "metadata": {
        "id": "qKotgZGhJp32",
        "colab_type": "code",
        "colab": {},
        "outputId": "a623c4da-de9c-48ca-ffb9-a9045e290322"
      },
      "source": [
        "tuple({5,6,7})"
      ],
      "execution_count": 0,
      "outputs": [
        {
          "output_type": "execute_result",
          "data": {
            "text/plain": [
              "(5, 6, 7)"
            ]
          },
          "metadata": {
            "tags": []
          },
          "execution_count": 69
        }
      ]
    },
    {
      "cell_type": "code",
      "metadata": {
        "id": "3qZ3eHVZJp34",
        "colab_type": "code",
        "colab": {},
        "outputId": "ddc2bc07-c62d-4d92-87b1-e1713105fb9f"
      },
      "source": [
        "list('hello')"
      ],
      "execution_count": 0,
      "outputs": [
        {
          "output_type": "execute_result",
          "data": {
            "text/plain": [
              "['h', 'e', 'l', 'l', 'o']"
            ]
          },
          "metadata": {
            "tags": []
          },
          "execution_count": 70
        }
      ]
    },
    {
      "cell_type": "markdown",
      "metadata": {
        "collapsed": false,
        "id": "CcNZ1zJXJp35",
        "colab_type": "text"
      },
      "source": [
        "To convert to dictionary, each element must be a pair"
      ]
    },
    {
      "cell_type": "code",
      "metadata": {
        "id": "hpSPt-r9Jp36",
        "colab_type": "code",
        "colab": {},
        "outputId": "24006a4f-f9b8-41dd-819d-374e55139825"
      },
      "source": [
        "dict([[1,2],[3,4]])"
      ],
      "execution_count": 0,
      "outputs": [
        {
          "output_type": "execute_result",
          "data": {
            "text/plain": [
              "{1: 2, 3: 4}"
            ]
          },
          "metadata": {
            "tags": []
          },
          "execution_count": 71
        }
      ]
    },
    {
      "cell_type": "code",
      "metadata": {
        "id": "6FmQ1XzTJp37",
        "colab_type": "code",
        "colab": {},
        "outputId": "5ed6363e-fc06-4d1d-f362-543991698dad"
      },
      "source": [
        "dict([(3,26),(4,44)])"
      ],
      "execution_count": 0,
      "outputs": [
        {
          "output_type": "execute_result",
          "data": {
            "text/plain": [
              "{3: 26, 4: 44}"
            ]
          },
          "metadata": {
            "tags": []
          },
          "execution_count": 72
        }
      ]
    },
    {
      "cell_type": "markdown",
      "metadata": {
        "collapsed": false,
        "id": "mtgMQvEmJp38",
        "colab_type": "text"
      },
      "source": [
        "# Type Conversion and Type Casting"
      ]
    },
    {
      "cell_type": "markdown",
      "metadata": {
        "collapsed": false,
        "id": "FtU4G19tJp39",
        "colab_type": "text"
      },
      "source": [
        "In this article you will learn about the Type conversion and uses of type conversion."
      ]
    },
    {
      "cell_type": "markdown",
      "metadata": {
        "collapsed": false,
        "id": "62uRLFP4Jp39",
        "colab_type": "text"
      },
      "source": [
        "## Type Conversion:\n",
        "\n",
        "The process of converting the value of one data type (integer, string, float, etc.) to another data type is called type conversion. Python has two types of type conversion.\n",
        "\n",
        "1. Implicit Type Conversion\n",
        "2. Explicit Type Conversion"
      ]
    },
    {
      "cell_type": "markdown",
      "metadata": {
        "collapsed": false,
        "id": "4ygv9_JCJp39",
        "colab_type": "text"
      },
      "source": [
        "## Implicit Type Conversion:\n",
        "\n",
        "In Implicit type conversion, Python automatically converts one data type to another data type. This process doesn't need any user involvement.\n",
        "Let's see an example where Python promotes conversion of lower datatype (integer) to higher data type (float) to avoid data loss."
      ]
    },
    {
      "cell_type": "markdown",
      "metadata": {
        "collapsed": false,
        "id": "tngx57SXJp39",
        "colab_type": "text"
      },
      "source": [
        "**Example : Converting integer to float**"
      ]
    },
    {
      "cell_type": "code",
      "metadata": {
        "id": "96GU_4prJp39",
        "colab_type": "code",
        "colab": {},
        "outputId": "40d754ad-4b56-43cd-9bd3-4627f1f937e3"
      },
      "source": [
        "num_int = 123\n",
        "num_flo = 1.23\n",
        "\n",
        "num_new = num_int + num_flo\n",
        "\n",
        "print(\"datatype of num_int:\",type(num_int))\n",
        "print(\"datatype of num_flo:\",type(num_flo))\n",
        "\n",
        "print(\"Value of num_new:\",num_new)\n",
        "print(\"datatype of num_new:\",type(num_new))"
      ],
      "execution_count": 0,
      "outputs": [
        {
          "output_type": "stream",
          "text": [
            "datatype of num_int: <class 'int'>\n",
            "datatype of num_flo: <class 'float'>\n",
            "Value of num_new: 124.23\n",
            "datatype of num_new: <class 'float'>\n"
          ],
          "name": "stdout"
        }
      ]
    },
    {
      "cell_type": "markdown",
      "metadata": {
        "collapsed": false,
        "id": "SFeWG5gzJp3_",
        "colab_type": "text"
      },
      "source": [
        "In the above code,\n",
        "\n",
        "* We add two variables `num_int` and `num_flo`, storing the value in `num_new`.\n",
        "* We will look at the data type of all three objects respectively.\n",
        "* In the output we can see the datatype of `num_int` is an `integer`, datatype of `num_flo` is a `float`.\n",
        "* Also, we can see the `num_new` has `float` data type because Python always converts smaller data type to larger data type to avoid the loss of data.\n",
        "\n",
        "\n",
        "Now, let's try adding a string and an integer, and see how Python treats it."
      ]
    },
    {
      "cell_type": "markdown",
      "metadata": {
        "collapsed": false,
        "id": "z2hdHSCEJp3_",
        "colab_type": "text"
      },
      "source": [
        "**Example: Addition of string(higher) data type and integer(lower) datatype**"
      ]
    },
    {
      "cell_type": "code",
      "metadata": {
        "id": "8Mr_oFvOJp3_",
        "colab_type": "code",
        "colab": {},
        "outputId": "a3676fa8-25da-48ae-c954-cef1dfeedd17"
      },
      "source": [
        "num_int = 123\n",
        "num_str = \"456\"\n",
        "\n",
        "print(\"Data type of num_int:\",type(num_int))\n",
        "print(\"Data type of num_str:\",type(num_str))\n",
        "\n",
        "print(num_int+num_str)"
      ],
      "execution_count": 0,
      "outputs": [
        {
          "output_type": "stream",
          "text": [
            "Data type of num_int: <class 'int'>\n",
            "Data type of num_str: <class 'str'>\n"
          ],
          "name": "stdout"
        },
        {
          "output_type": "error",
          "ename": "TypeError",
          "evalue": "unsupported operand type(s) for +: 'int' and 'str'",
          "traceback": [
            "\u001b[0;31m---------------------------------------------------------------------------\u001b[0m",
            "\u001b[0;31mTypeError\u001b[0m                                 Traceback (most recent call last)",
            "\u001b[0;32m<ipython-input-75-6e3c0f0ba491>\u001b[0m in \u001b[0;36m<module>\u001b[0;34m\u001b[0m\n\u001b[1;32m      5\u001b[0m \u001b[0mprint\u001b[0m\u001b[0;34m(\u001b[0m\u001b[0;34m\"Data type of num_str:\"\u001b[0m\u001b[0;34m,\u001b[0m\u001b[0mtype\u001b[0m\u001b[0;34m(\u001b[0m\u001b[0mnum_str\u001b[0m\u001b[0;34m)\u001b[0m\u001b[0;34m)\u001b[0m\u001b[0;34m\u001b[0m\u001b[0;34m\u001b[0m\u001b[0m\n\u001b[1;32m      6\u001b[0m \u001b[0;34m\u001b[0m\u001b[0m\n\u001b[0;32m----> 7\u001b[0;31m \u001b[0mprint\u001b[0m\u001b[0;34m(\u001b[0m\u001b[0mnum_int\u001b[0m\u001b[0;34m+\u001b[0m\u001b[0mnum_str\u001b[0m\u001b[0;34m)\u001b[0m\u001b[0;34m\u001b[0m\u001b[0;34m\u001b[0m\u001b[0m\n\u001b[0m",
            "\u001b[0;31mTypeError\u001b[0m: unsupported operand type(s) for +: 'int' and 'str'"
          ]
        }
      ]
    },
    {
      "cell_type": "markdown",
      "metadata": {
        "collapsed": false,
        "id": "6YtcQ7C4Jp4D",
        "colab_type": "text"
      },
      "source": [
        "In the above program,\n",
        "\n",
        "* We add two variable `num_int` and `num_str`.\n",
        "* As we can see from the output, we got `typeerror`. Python is not able use Implicit Conversion in such condition.\n",
        "* However Python has the solution for this type of situation which is know as Explicit Conversion."
      ]
    },
    {
      "cell_type": "markdown",
      "metadata": {
        "collapsed": false,
        "id": "_pw3yjirJp4D",
        "colab_type": "text"
      },
      "source": [
        "## Explicit Type Conversion:\n",
        "\n",
        "In Explicit Type Conversion, users convert the data type of an object to required data type. We use the predefined functions like `int()`, `float()`, `str()`, etc to perform explicit type conversion.\n",
        "This type conversion is also called typecasting because the user casts (change) the data type of the objects.\n",
        "Syntax :\n",
        "```\n",
        "(required\\_datatype)(expression)\n",
        "```\n",
        "\n",
        "Typecasting can be done by assigning the required data type function to the expression."
      ]
    },
    {
      "cell_type": "markdown",
      "metadata": {
        "collapsed": false,
        "id": "ZnhIPlWpJp4E",
        "colab_type": "text"
      },
      "source": [
        "**Example: Addition of string and integer using explicit conversion**"
      ]
    },
    {
      "cell_type": "code",
      "metadata": {
        "id": "CE4SfPPiJp4E",
        "colab_type": "code",
        "colab": {},
        "outputId": "b490f515-ac19-4d77-9999-e3570788890d"
      },
      "source": [
        "num_int = 123\n",
        "num_str = \"456\"\n",
        "\n",
        "print(\"Data type of num_int:\",type(num_int))\n",
        "print(\"Data type of num_str before Type Casting:\",type(num_str))\n",
        "\n",
        "num_str = int(num_str)\n",
        "print(\"Data type of num_str after Type Casting:\",type(num_str))\n",
        "\n",
        "num_sum = num_int + num_str\n",
        "\n",
        "print(\"Sum of num_int and num_str:\",num_sum)\n",
        "print(\"Data type of the sum:\",type(num_sum))"
      ],
      "execution_count": 0,
      "outputs": [
        {
          "output_type": "stream",
          "text": [
            "Data type of num_int: <class 'int'>\n",
            "Data type of num_str before Type Casting: <class 'str'>\n",
            "Data type of num_str after Type Casting: <class 'int'>\n",
            "Sum of num_int and num_str: 579\n",
            "Data type of the sum: <class 'int'>\n"
          ],
          "name": "stdout"
        }
      ]
    },
    {
      "cell_type": "markdown",
      "metadata": {
        "collapsed": false,
        "id": "shyXOUGrJp4G",
        "colab_type": "text"
      },
      "source": [
        "In above program,\n",
        "\n",
        "* We add `num_str` and `num_int` variable.\n",
        "* We converted `num_str` from string(higher) to integer(lower) type using `int()` function to perform the addition.\n",
        "* After converting `num_str` to a integer value Python is able to add these two variable.\n",
        "* We got the `num_sum` value and data type to be integer."
      ]
    },
    {
      "cell_type": "markdown",
      "metadata": {
        "collapsed": false,
        "id": "C464ERYLJp4G",
        "colab_type": "text"
      },
      "source": [
        "## Key Points to Remember:\n",
        "\n",
        "1. Type Conversion is the conversion of object from one data type to another data type.\n",
        "2. Implicit Type Conversion is automatically performed by the Python interpreter.\n",
        "3. Python avoids the loss of data in Implicit Type Conversion.\n",
        "4. Explicit Type Conversion is also called Type Casting, the data types of object are converted using predefined function by user.\n",
        "5. In Type Casting loss of data may occur as we enforce the object to specific data type."
      ]
    },
    {
      "cell_type": "markdown",
      "metadata": {
        "collapsed": false,
        "id": "STXeVPkGJp4G",
        "colab_type": "text"
      },
      "source": [
        "# Input, Output and Import"
      ]
    },
    {
      "cell_type": "markdown",
      "metadata": {
        "collapsed": false,
        "id": "0P1-T1d1Jp4G",
        "colab_type": "text"
      },
      "source": [
        "This tutorial focuses on two built-in functions print() and input() to perform I/O task in Python. Also, you will learn to import modules and use them in your program.\n",
        "\n",
        "\n",
        "Python provides numerous built-in functions that are readily available to us at the Python prompt.\n",
        "\n",
        "Some of the functions like `input()` and `print()` are widely used for standard input and output operations respectively. Let us see the output section first."
      ]
    },
    {
      "cell_type": "markdown",
      "metadata": {
        "collapsed": false,
        "id": "lRz8K66tJp4G",
        "colab_type": "text"
      },
      "source": [
        "## Python Output Using print() function"
      ]
    },
    {
      "cell_type": "markdown",
      "metadata": {
        "collapsed": false,
        "id": "SZAqjXAgJp4H",
        "colab_type": "text"
      },
      "source": [
        "We use the `print()` function to output data to the standard output device (screen).\n",
        "\n",
        "We can also output data to a file, but this will be discussed later. An example use is given below."
      ]
    },
    {
      "cell_type": "code",
      "metadata": {
        "id": "W1Y5oa5dJp4H",
        "colab_type": "code",
        "colab": {},
        "outputId": "ea2c0d6f-6bf9-4a3e-c735-7c428e5cc766"
      },
      "source": [
        "print('This sentence is output to the screen')\n",
        "# Output: This sentence is output to the screen\n",
        "\n",
        "a = 5\n",
        "\n",
        "print('The value of a is', a)\n",
        "# Output: The value of a is 5"
      ],
      "execution_count": 0,
      "outputs": [
        {
          "output_type": "stream",
          "text": [
            "This sentence is output to the screen\n",
            "The value of a is 5\n"
          ],
          "name": "stdout"
        }
      ]
    },
    {
      "cell_type": "markdown",
      "metadata": {
        "collapsed": false,
        "id": "FEPsq22GJp4J",
        "colab_type": "text"
      },
      "source": [
        "In the second print() statement, we can notice that a space was added between the string and the value of variable `a`. This is by default, but we can change it.\n",
        "\n",
        "The actual syntax of the `print()` function is\n",
        "\n",
        "```\n",
        "print(\\*objects, sep=' ', end='\\\\n', file=sys.stdout, flush=False)\n",
        "\n",
        "```\n",
        "\n",
        "Here, `objects` is the value(s) to be printed.\n",
        "The `sep` separator is used between the values. It defaults into a space character.\n",
        "After all values are printed, `end` is printed. It defaults into a new line.\n",
        "\n",
        "`The file` is the object where the values are printed and its default value is `sys.stdout` (screen). Here are an example to illustrate this."
      ]
    },
    {
      "cell_type": "code",
      "metadata": {
        "id": "MolIqMBcJp4J",
        "colab_type": "code",
        "colab": {},
        "outputId": "7df33419-42b5-4a75-a21e-f1005ad3cbb6"
      },
      "source": [
        "print(1,2,3,4)\n",
        "# Output: 1 2 3 4\n",
        "\n",
        "print(1,2,3,4,sep='*')\n",
        "# Output: 1*2*3*4\n",
        "\n",
        "print(1,2,3,4,sep='#',end='&')\n",
        "# Output: 1#2#3#4&"
      ],
      "execution_count": 0,
      "outputs": [
        {
          "output_type": "stream",
          "text": [
            "1 2 3 4\n",
            "1*2*3*4\n",
            "1#2#3#4&"
          ],
          "name": "stdout"
        }
      ]
    },
    {
      "cell_type": "markdown",
      "metadata": {
        "collapsed": false,
        "id": "IMx0deknJp4M",
        "colab_type": "text"
      },
      "source": [
        "### Output formatting\n",
        "\n",
        "Sometimes we would like to format our output to make it look attractive. This can be done by using the `str.format()` method. This method is visible to any string object.\n"
      ]
    },
    {
      "cell_type": "code",
      "metadata": {
        "id": "EjIp0qS3Jp4N",
        "colab_type": "code",
        "colab": {},
        "outputId": "09e8f441-ef1b-4f16-f806-a974d4dddd54"
      },
      "source": [
        "x = 5; y = 10\n",
        "print('The value of x is {} and y is {}'.format(x,y))"
      ],
      "execution_count": 0,
      "outputs": [
        {
          "output_type": "stream",
          "text": [
            "The value of x is 5 and y is 10\n"
          ],
          "name": "stdout"
        }
      ]
    },
    {
      "cell_type": "markdown",
      "metadata": {
        "collapsed": false,
        "id": "61WgSORnJp4O",
        "colab_type": "text"
      },
      "source": [
        "Here the curly braces `{` `}` are used as placeholders. We can specify the order in which it is printed by using numbers (tuple index)."
      ]
    },
    {
      "cell_type": "code",
      "metadata": {
        "id": "xe3jAivTJp4O",
        "colab_type": "code",
        "colab": {},
        "outputId": "05e4eb1f-79f4-4950-9779-ab6a0205e3aa"
      },
      "source": [
        "print('I love {0} and {1}'.format('bread','butter'))\n",
        "# Output: I love bread and butter\n",
        "\n",
        "print('I love {1} and {0}'.format('bread','butter'))\n",
        "# Output: I love butter and bread"
      ],
      "execution_count": 0,
      "outputs": [
        {
          "output_type": "stream",
          "text": [
            "I love bread and butter\n",
            "I love butter and bread\n"
          ],
          "name": "stdout"
        }
      ]
    },
    {
      "cell_type": "markdown",
      "metadata": {
        "collapsed": false,
        "id": "YB_1mXG7Jp4R",
        "colab_type": "text"
      },
      "source": [
        "We can even use keyword arguments to format the string."
      ]
    },
    {
      "cell_type": "code",
      "metadata": {
        "id": "Dlu4KGS9Jp4R",
        "colab_type": "code",
        "colab": {},
        "outputId": "857a27c3-f770-4c89-a961-25b4a5942ed4"
      },
      "source": [
        "print('Hello {name}, {greeting}'.format(greeting = 'Goodmorning', name = 'John'))"
      ],
      "execution_count": 0,
      "outputs": [
        {
          "output_type": "stream",
          "text": [
            "Hello John, Goodmorning\n"
          ],
          "name": "stdout"
        }
      ]
    },
    {
      "cell_type": "markdown",
      "metadata": {
        "collapsed": false,
        "id": "gSEAk3ISJp4T",
        "colab_type": "text"
      },
      "source": [
        "We can even format strings like the old `sprintf()` style. We use the `%` operator to accomplish this."
      ]
    },
    {
      "cell_type": "code",
      "metadata": {
        "id": "eLJC4z9aJp4U",
        "colab_type": "code",
        "colab": {},
        "outputId": "f7c9ba0f-1c3e-40c9-e735-e01d0c670a3a"
      },
      "source": [
        "x = 12.3456789\n",
        "print('The value of x is %3.2f' %x)\n",
        "print('The value of x is %3.4f' %x)"
      ],
      "execution_count": 0,
      "outputs": [
        {
          "output_type": "stream",
          "text": [
            "The value of x is 12.35\n",
            "The value of x is 12.3457\n"
          ],
          "name": "stdout"
        }
      ]
    },
    {
      "cell_type": "markdown",
      "metadata": {
        "collapsed": false,
        "id": "AtWg-TEXJp4X",
        "colab_type": "text"
      },
      "source": [
        "## Python Input\n",
        "\n",
        "Up till now, our programs were static. The value of variables were defined or hard coded into the source code.\n",
        "To allow flexibility we might want to take the input from the user. In Python, we have the `input()` function to allow this. The syntax for `input()` is\n",
        "\n",
        "```\n",
        "input(\\[prompt\\])\n",
        "\n",
        "```\n",
        "\n",
        "where `prompt` is the string we wish to display on the screen. It is optional."
      ]
    },
    {
      "cell_type": "code",
      "metadata": {
        "cocalc": {
          "outputs": {
            "0": {
              "name": "input",
              "opts": {
                "password": false,
                "prompt": "Enter a number: "
              },
              "output_type": "stream",
              "value": "4"
            }
          }
        },
        "id": "-LIt1eoRJp4Y",
        "colab_type": "code",
        "colab": {},
        "outputId": "b077fcbe-24c7-4df0-cfc4-d7dcd5ac71bd"
      },
      "source": [
        "num = input('Enter a number: ')\n",
        "print(num)"
      ],
      "execution_count": 0,
      "outputs": [
        {
          "output_type": "stream",
          "text": [
            "Enter a number:  4"
          ],
          "name": "stdout"
        },
        {
          "output_type": "stream",
          "text": [
            "4\n"
          ],
          "name": "stdout"
        }
      ]
    },
    {
      "cell_type": "markdown",
      "metadata": {
        "collapsed": false,
        "id": "FnEJojB9Jp4a",
        "colab_type": "text"
      },
      "source": [
        "Here, we can see that the entered value `10` is a string, not a number. To convert this into a number we can use `int()` or `float()` functions."
      ]
    },
    {
      "cell_type": "code",
      "metadata": {
        "id": "Fy55592uJp4a",
        "colab_type": "code",
        "colab": {},
        "outputId": "856f6d40-7cae-48a5-ad33-ab57532fe1a3"
      },
      "source": [
        "int('10')"
      ],
      "execution_count": 0,
      "outputs": [
        {
          "output_type": "execute_result",
          "data": {
            "text/plain": [
              "10"
            ]
          },
          "metadata": {
            "tags": []
          },
          "execution_count": 87
        }
      ]
    },
    {
      "cell_type": "code",
      "metadata": {
        "id": "bhkjV_4KJp4c",
        "colab_type": "code",
        "colab": {},
        "outputId": "7aade7a3-fd7d-4530-a3ac-ea9512fa0ab2"
      },
      "source": [
        "float('10')"
      ],
      "execution_count": 0,
      "outputs": [
        {
          "output_type": "execute_result",
          "data": {
            "text/plain": [
              "10.0"
            ]
          },
          "metadata": {
            "tags": []
          },
          "execution_count": 88
        }
      ]
    },
    {
      "cell_type": "markdown",
      "metadata": {
        "collapsed": false,
        "id": "EyJGqeOKJp4d",
        "colab_type": "text"
      },
      "source": [
        "This same operation can be performed using the `eval()` function. But it takes it further. It can evaluate even expressions, provided the input is a string"
      ]
    },
    {
      "cell_type": "code",
      "metadata": {
        "id": "pQtBuwL9Jp4e",
        "colab_type": "code",
        "colab": {},
        "outputId": "227b5cd2-3a5b-4ff9-884b-f8e3970f55bc"
      },
      "source": [
        "int('2+3')"
      ],
      "execution_count": 0,
      "outputs": [
        {
          "output_type": "error",
          "ename": "ValueError",
          "evalue": "invalid literal for int() with base 10: '2+3'",
          "traceback": [
            "\u001b[0;31m---------------------------------------------------------------------------\u001b[0m",
            "\u001b[0;31mValueError\u001b[0m                                Traceback (most recent call last)",
            "\u001b[0;32m<ipython-input-85-7dc57dc68b93>\u001b[0m in \u001b[0;36m<module>\u001b[0;34m\u001b[0m\n\u001b[0;32m----> 1\u001b[0;31m \u001b[0mint\u001b[0m\u001b[0;34m(\u001b[0m\u001b[0;34m'2+3'\u001b[0m\u001b[0;34m)\u001b[0m\u001b[0;34m\u001b[0m\u001b[0;34m\u001b[0m\u001b[0m\n\u001b[0m",
            "\u001b[0;31mValueError\u001b[0m: invalid literal for int() with base 10: '2+3'"
          ]
        }
      ]
    },
    {
      "cell_type": "code",
      "metadata": {
        "id": "N69EeOyPJp4f",
        "colab_type": "code",
        "colab": {},
        "outputId": "7b53f875-3aed-4b55-8094-b33088788e9a"
      },
      "source": [
        "eval('2+3')"
      ],
      "execution_count": 0,
      "outputs": [
        {
          "output_type": "execute_result",
          "data": {
            "text/plain": [
              "5"
            ]
          },
          "metadata": {
            "tags": []
          },
          "execution_count": 86
        }
      ]
    },
    {
      "cell_type": "markdown",
      "metadata": {
        "collapsed": false,
        "id": "vflRhGZ3Jp4g",
        "colab_type": "text"
      },
      "source": [
        "## Python Import\n",
        "\n",
        "When our program grows bigger, it is a good idea to break it into different modules.\n",
        "\n",
        "A module is a file containing Python definitions and statements.`Python modules` have a filename and end with the extension`.py`.\n",
        "\n",
        "Definitions inside a module can be imported to another module or the interactive interpreter in Python. We use the `import` keyword to do this.\n",
        "For example, we can import the `math` module by typing in `import math`."
      ]
    },
    {
      "cell_type": "code",
      "metadata": {
        "id": "EQjoe66tJp4h",
        "colab_type": "code",
        "colab": {},
        "outputId": "86a3db5f-2ec3-4766-9a62-7aa26cd6c48d"
      },
      "source": [
        "import math\n",
        "print(math.pi)"
      ],
      "execution_count": 0,
      "outputs": [
        {
          "output_type": "stream",
          "text": [
            "3.141592653589793\n"
          ],
          "name": "stdout"
        }
      ]
    },
    {
      "cell_type": "markdown",
      "metadata": {
        "collapsed": false,
        "id": "S2vfgGbGJp4i",
        "colab_type": "text"
      },
      "source": [
        "Now all the definitions inside `math` module are available in our scope. We can also import some specific attributes and functions only, using the `from` keyword. For example:"
      ]
    },
    {
      "cell_type": "code",
      "metadata": {
        "id": "iDa5I4ZcJp4i",
        "colab_type": "code",
        "colab": {},
        "outputId": "9e2099b5-070a-40df-a5ab-5521eb975f4c"
      },
      "source": [
        "from math import pi\n",
        "print(pi)"
      ],
      "execution_count": 0,
      "outputs": [
        {
          "output_type": "stream",
          "text": [
            "3.141592653589793\n"
          ],
          "name": "stdout"
        }
      ]
    },
    {
      "cell_type": "markdown",
      "metadata": {
        "collapsed": false,
        "id": "_sa9kualJp4k",
        "colab_type": "text"
      },
      "source": [
        "While importing a module, Python looks at several places defined in `sys.path`. It is a list of directory locations."
      ]
    },
    {
      "cell_type": "code",
      "metadata": {
        "id": "01jpon4DJp4k",
        "colab_type": "code",
        "colab": {},
        "outputId": "2a1853c3-a26c-4d5a-b8a3-6d38e368ef11"
      },
      "source": [
        "import sys\n",
        "sys.path"
      ],
      "execution_count": 0,
      "outputs": [
        {
          "output_type": "execute_result",
          "data": {
            "text/plain": [
              "['',\n",
              " '/usr/lib/python36.zip',\n",
              " '/usr/lib/python3.6',\n",
              " '/usr/lib/python3.6/lib-dynload',\n",
              " '/usr/local/lib/python3.6/dist-packages',\n",
              " '/usr/lib/python3/dist-packages',\n",
              " '/usr/local/lib/python3.6/dist-packages/IPython/extensions',\n",
              " '/home/user/.ipython']"
            ]
          },
          "metadata": {
            "tags": []
          },
          "execution_count": 92
        }
      ]
    },
    {
      "cell_type": "markdown",
      "metadata": {
        "collapsed": false,
        "id": "LqlDouC8Jp4n",
        "colab_type": "text"
      },
      "source": [
        "# Operators"
      ]
    },
    {
      "cell_type": "markdown",
      "metadata": {
        "collapsed": false,
        "id": "Yi4oXVkWJp4o",
        "colab_type": "text"
      },
      "source": [
        "In this section, you'll learn everything about different types of operators in Python, their syntax and how to use them with examples."
      ]
    },
    {
      "cell_type": "markdown",
      "metadata": {
        "collapsed": false,
        "id": "EFhpclAlJp4p",
        "colab_type": "text"
      },
      "source": [
        "## What are operators in python?\n",
        "\n",
        "Operators are special symbols in Python that carry out arithmetic or logical computation. The value that the operator operates on is called the operand.\n",
        "For example:"
      ]
    },
    {
      "cell_type": "code",
      "metadata": {
        "id": "txsqk8SRJp4p",
        "colab_type": "code",
        "colab": {},
        "outputId": "672456a6-a1f5-47a6-b88a-6f2b790eb09a"
      },
      "source": [
        "2+3"
      ],
      "execution_count": 0,
      "outputs": [
        {
          "output_type": "execute_result",
          "data": {
            "text/plain": [
              "5"
            ]
          },
          "metadata": {
            "tags": []
          },
          "execution_count": 93
        }
      ]
    },
    {
      "cell_type": "markdown",
      "metadata": {
        "collapsed": false,
        "id": "r1mAlRvrJp4r",
        "colab_type": "text"
      },
      "source": [
        "Here, `+` is the operator that performs addition. `2` and `3` are the operands and `5` is the output of the operation."
      ]
    },
    {
      "cell_type": "markdown",
      "metadata": {
        "collapsed": false,
        "id": "C1u5jLHsJp4r",
        "colab_type": "text"
      },
      "source": [
        "## Arithmetic operators\n",
        "\n",
        "Arithmetic operators are used to perform mathematical operations like addition, subtraction, multiplication etc.\n",
        "\n",
        "\n",
        "\n",
        "| Operator | Meaning                                                                                          | Example                   |\n",
        "| -------- | ------------------------------------------------------------------------------------------------ | ------------------------- |\n",
        "| +        | Add two operands or unary plus                                                                   | x + y                     |\n",
        "| +2       |                                                                                                  |                           |\n",
        "| -        | Subtract right operand from the left or unary minus                                              | x - y                     |\n",
        "| -2       |                                                                                                  |                           |\n",
        "| \\*       | Multiply two operands                                                                            | x \\* y                    |\n",
        "| /        | Divide left operand by the right one (always results into float)                                 | x / y                     |\n",
        "| %        | Modulus - remainder of the division of left operand by the right                                 | x % y (remainder of x/y)  |\n",
        "| //       | Floor division - division that results into whole number adjusted to the left in the number line | x // y                    |\n",
        "| \\*\\*     | Exponent - left operand raised to the power of right                                             | x\\*\\*y (x to the power y) |\n",
        "\n",
        "***Example: Arithmetic operators in Python***"
      ]
    },
    {
      "cell_type": "code",
      "metadata": {
        "id": "NTVY2IysJp4r",
        "colab_type": "code",
        "colab": {},
        "outputId": "5bc3ccf3-d6d7-4010-924a-94bea71dc7dd"
      },
      "source": [
        "x = 15\n",
        "y = 4\n",
        "\n",
        "# Output: x + y = 19\n",
        "print('x + y =',x+y)\n",
        "\n",
        "# Output: x - y = 11\n",
        "print('x - y =',x-y)\n",
        "\n",
        "# Output: x * y = 60\n",
        "print('x * y =',x*y)\n",
        "\n",
        "# Output: x / y = 3.75\n",
        "print('x / y =',x/y)\n",
        "\n",
        "# Output: x // y = 3\n",
        "print('x // y =',x//y)\n",
        "\n",
        "# Output: x ** y = 50625\n",
        "print('x ** y =',x**y)\n"
      ],
      "execution_count": 0,
      "outputs": [
        {
          "output_type": "stream",
          "text": [
            "x + y = 19\n",
            "x - y = 11\n",
            "x * y = 60\n",
            "x / y = 3.75\n",
            "x // y = 3\n",
            "x ** y = 50625\n"
          ],
          "name": "stdout"
        }
      ]
    },
    {
      "cell_type": "markdown",
      "metadata": {
        "collapsed": false,
        "id": "0-3nm67nJp4v",
        "colab_type": "text"
      },
      "source": [
        "Comparison operators are used to compare values. It either returns True or False according to the condition."
      ]
    },
    {
      "cell_type": "markdown",
      "metadata": {
        "collapsed": false,
        "id": "dY5mIuMVJp4v",
        "colab_type": "text"
      },
      "source": [
        "| Operator | Meaning                                                                               | Example   |\n",
        "| -------- | ------------------------------------------------------------------------------------- | --------- |\n",
        "| >        | Greater than - True if left operand is greater than the right                         | x > y     |\n",
        "| &lt;     | Less than - True if left operand is less than the right                               | x &lt; y  |\n",
        "| \\\\==     | Equal to - True if both operands are equal                                            | x == y    |\n",
        "| !=       | Not equal to - True if operands are not equal                                         | x != y    |\n",
        "| >=       | Greater than or equal to - True if left operand is greater than or equal to the right | x >= y    |\n",
        "| &lt;=    | Less than or equal to - True if left operand is less than or equal to the right       | x &lt;= y |"
      ]
    },
    {
      "cell_type": "markdown",
      "metadata": {
        "collapsed": false,
        "id": "zkFAYOcaJp4w",
        "colab_type": "text"
      },
      "source": [
        "**Example: Comparison operators in Python**"
      ]
    },
    {
      "cell_type": "code",
      "metadata": {
        "id": "fldZmUIuJp4w",
        "colab_type": "code",
        "colab": {},
        "outputId": "9fe1f122-ab69-4df0-e69e-7f3eb38e6cd4"
      },
      "source": [
        "x = 10\n",
        "y = 12\n",
        "\n",
        "# Output: x > y is False\n",
        "print('x > y  is',x>y)\n",
        "\n",
        "# Output: x < y is True\n",
        "print('x < y  is',x<y)\n",
        "\n",
        "# Output: x == y is False\n",
        "print('x == y is',x==y)\n",
        "\n",
        "# Output: x != y is True\n",
        "print('x != y is',x!=y)\n",
        "\n",
        "# Output: x >= y is False\n",
        "print('x >= y is',x>=y)\n",
        "\n",
        "# Output: x <= y is True\n",
        "print('x <= y is',x<=y)"
      ],
      "execution_count": 0,
      "outputs": [
        {
          "output_type": "stream",
          "text": [
            "x > y  is False\n",
            "x < y  is True\n",
            "x == y is False\n",
            "x != y is True\n",
            "x >= y is False\n",
            "x <= y is True\n"
          ],
          "name": "stdout"
        }
      ]
    },
    {
      "cell_type": "markdown",
      "metadata": {
        "collapsed": false,
        "id": "Wuo5bi1gJp4x",
        "colab_type": "text"
      },
      "source": [
        "## Logical operators\n",
        "\n",
        "Logical operators are the `and`, `or`, `not` operators."
      ]
    },
    {
      "cell_type": "markdown",
      "metadata": {
        "collapsed": false,
        "id": "P222gIoSJp4x",
        "colab_type": "text"
      },
      "source": [
        "| Operator | Meaning                                            | Example |\n",
        "| -------- | -------------------------------------------------- | ------- |\n",
        "| and      | True if both the operands are true                 | x and y |\n",
        "| or       | True if either of the operands is true             | x or y  |\n",
        "| not      | True if operand is false (complements the operand) | not x   |"
      ]
    },
    {
      "cell_type": "markdown",
      "metadata": {
        "collapsed": false,
        "id": "z3IXvVwGJp4x",
        "colab_type": "text"
      },
      "source": [
        "**Example: Logical Operators in Python**"
      ]
    },
    {
      "cell_type": "code",
      "metadata": {
        "id": "pZdxm6jBJp4y",
        "colab_type": "code",
        "colab": {},
        "outputId": "ab43a679-33a2-4e3f-b19f-01afd2f0bee5"
      },
      "source": [
        "x = True\n",
        "y = False\n",
        "\n",
        "# Output: x and y is False\n",
        "print('x and y is',x and y)\n",
        "\n",
        "# Output: x or y is True\n",
        "print('x or y is',x or y)\n",
        "\n",
        "# Output: not x is False\n",
        "print('not x is',not x)"
      ],
      "execution_count": 0,
      "outputs": [
        {
          "output_type": "stream",
          "text": [
            "x and y is False\n",
            "x or y is True\n",
            "not x is False\n"
          ],
          "name": "stdout"
        }
      ]
    },
    {
      "cell_type": "markdown",
      "metadata": {
        "collapsed": false,
        "id": "pff7TFz1Jp4z",
        "colab_type": "text"
      },
      "source": [
        "## Bitwise operators\n",
        "\n",
        "Bitwise operators act on operands as if they were string of binary digits. It operates bit by bit, hence the name.\n",
        "\n",
        "For example, 2 is `10` in binary and 7 is `111`.\n",
        "\n",
        "**In the table below:** Let `x= 10` (`0000 1010`in binary) and `y = 4` (`0000 0100` in binary)"
      ]
    },
    {
      "cell_type": "markdown",
      "metadata": {
        "collapsed": false,
        "id": "EKQ0mOWkJp40",
        "colab_type": "text"
      },
      "source": [
        "| Operator | Meaning             | Example                        |     |                      |\n",
        "| -------- | ------------------- | ------------------------------ | --- | -------------------- |\n",
        "| &        | Bitwise AND         | x& y = 0 (`0000 0000`)         |     |                      |\n",
        "|          \\|                     | Bitwise OR                     | x   \\| y = 14 (`0000 1110`) |\n",
        "| ~        | Bitwise NOT         | ~x = -11 (`1111 0101`)         |     |                      |\n",
        "| ^        | Bitwise XOR         | x ^ y = 14 (`0000 1110`)       |     |                      |\n",
        "| >>       | Bitwise right shift | x>> 2 = 2 (`0000 0010`)        |     |                      |\n",
        "| &lt;&lt; | Bitwise left shift  | x&lt;&lt; 2 = 40 (`0010 1000`) |     |                      |"
      ]
    },
    {
      "cell_type": "markdown",
      "metadata": {
        "collapsed": false,
        "id": "QGV-oj1qJp40",
        "colab_type": "text"
      },
      "source": [
        "## Assignment operators\n",
        "\n",
        "Assignment operators are used in Python to assign values to variables.\n",
        " `a = 5` is a simple assignment operator that assigns the value 5 on the right to the variableaon the left.\n",
        "There are various compound operators in Python like `a += 5` that adds to the variable and later assigns the same. It is equivalent to `a = a + 5`."
      ]
    },
    {
      "cell_type": "markdown",
      "metadata": {
        "collapsed": false,
        "id": "MjTe-FYIJp40",
        "colab_type": "text"
      },
      "source": [
        "| Operator  | Example       | Equivatent to    |     |       |     |\n",
        "| --------- | ------------- | ---------------- | --- | ----- | --- |\n",
        "| \\\\=       | x = 5         | x = 5            |     |       |     |\n",
        "| +=        | x += 5        | x = x + 5        |     |       |     |\n",
        "| -=        | x -= 5        | x = x - 5        |     |       |     |\n",
        "| \\*=       | x \\*= 5       | x = x \\* 5       |     |       |     |\n",
        "| /=        | x /= 5        | x = x / 5        |     |       |     |\n",
        "| %=        | x %= 5        | x = x % 5        |     |       |     |\n",
        "| //=       | x //= 5       | x = x // 5       |     |       |     |\n",
        "| \\*\\*=     | x \\*\\*= 5     | x = x \\*\\* 5     |     |       |     |\n",
        "| &=        | x &= 5        | x = x & 5        |     |       |     |\n",
        "|           \\| =             | x                \\| = 5 | x = x \\| 5   |\n",
        "| ^=        | x ^= 5        | x = x ^ 5        |     |       |     |\n",
        "| >>=       | x >>= 5       | x = x >> 5       |     |       |     |\n",
        "| &lt;&lt;= | x &lt;&lt;= 5 | x = x &lt;&lt; 5 |     |       |     |"
      ]
    },
    {
      "cell_type": "markdown",
      "metadata": {
        "collapsed": false,
        "id": "bsYkStamJp41",
        "colab_type": "text"
      },
      "source": [
        "## Special operators\n",
        "\n",
        "Python language offers some special type of operators like the identity operator or the membership operator. They are described below with examples.\n",
        "\n",
        "### Identity operators\n",
        "\n",
        "`is` and `is not` are the identity operators in Python. They are used to check if two values (or variables) are located on the same part of the memory. Two variables that are equal does not imply that they are identical."
      ]
    },
    {
      "cell_type": "markdown",
      "metadata": {
        "collapsed": false,
        "id": "uVwPh5UFJp41",
        "colab_type": "text"
      },
      "source": [
        "| Meaning | Example                                                                  |               |\n",
        "| ------- | ------------------------------------------------------------------------ | ------------- |\n",
        "| is      | True if the operands are identical (refer to the same object)            | x is True     |\n",
        "| is not  | True if the operands are not identical (do not refer to the same object) | x is not True |"
      ]
    },
    {
      "cell_type": "markdown",
      "metadata": {
        "collapsed": false,
        "id": "UxilrE-XJp41",
        "colab_type": "text"
      },
      "source": [
        "**Example: Identity operators in Python**"
      ]
    },
    {
      "cell_type": "code",
      "metadata": {
        "id": "uuIpOhPLJp41",
        "colab_type": "code",
        "colab": {},
        "outputId": "58cce3d3-d73f-474c-cf43-34ca3010e41d"
      },
      "source": [
        "x1 = 5\n",
        "y1 = 5\n",
        "x2 = 'Hello'\n",
        "y2 = 'Hello'\n",
        "x3 = [1,2,3]\n",
        "y3 = [1,2,3]\n",
        "\n",
        "# Output: False\n",
        "print(x1 is not y1)\n",
        "\n",
        "# Output: True\n",
        "print(x2 is y2)\n",
        "\n",
        "# Output: False\n",
        "print(x3 is y3)"
      ],
      "execution_count": 0,
      "outputs": [
        {
          "output_type": "stream",
          "text": [
            "False\n",
            "True\n",
            "False\n"
          ],
          "name": "stdout"
        }
      ]
    },
    {
      "cell_type": "markdown",
      "metadata": {
        "collapsed": false,
        "id": "mr87nZv3Jp43",
        "colab_type": "text"
      },
      "source": [
        "Here, we see that `x1` and `y1` are integers of same values, so they are equal as well as identical. Same is the case with `x2` and `y2` (strings).\n",
        "\n",
        "But `x3` and `y3` are list. They are equal but not identical. It is because interpreter locates them separately in memory although they are equal."
      ]
    },
    {
      "cell_type": "markdown",
      "metadata": {
        "collapsed": false,
        "id": "ENpH2tQsJp43",
        "colab_type": "text"
      },
      "source": [
        "| Operator | Meaning                                             | Example    |\n",
        "| -------- | --------------------------------------------------- | ---------- |\n",
        "| in       | True if value/variable is found in the sequence     | 5 in x     |\n",
        "| not in   | True if value/variable is not found in the sequence | 5 not in x |"
      ]
    },
    {
      "cell_type": "markdown",
      "metadata": {
        "collapsed": false,
        "id": "Y2fEFZbeJp43",
        "colab_type": "text"
      },
      "source": [
        "**Example: Membership operators in Python**"
      ]
    },
    {
      "cell_type": "code",
      "metadata": {
        "id": "NhXPocbGJp44",
        "colab_type": "code",
        "colab": {},
        "outputId": "5cd886ee-f5ed-4666-ee42-cef24902449c"
      },
      "source": [
        "x = 'Hello world'\n",
        "y = {1:'a',2:'b'}\n",
        "\n",
        "# Output: True\n",
        "print('H' in x)\n",
        "\n",
        "# Output: True\n",
        "print('hello' not in x)\n",
        "\n",
        "# Output: True\n",
        "print(1 in y)\n",
        "\n",
        "# Output: False\n",
        "print('a' in y)"
      ],
      "execution_count": 0,
      "outputs": [
        {
          "output_type": "stream",
          "text": [
            "True\n",
            "True\n",
            "True\n",
            "False\n"
          ],
          "name": "stdout"
        }
      ]
    },
    {
      "cell_type": "markdown",
      "metadata": {
        "collapsed": false,
        "id": "B-bKhoMnJp45",
        "colab_type": "text"
      },
      "source": [
        "Here,`'H'` is in `x` but `'hello'` is not present in `x` (remember, Python is case sensitive). Similary, `1` is key and `'a'` is the value in dictionary `y`. Hence, `'a' in y` returns `False`."
      ]
    },
    {
      "cell_type": "markdown",
      "metadata": {
        "collapsed": false,
        "id": "laC_qXAbJp45",
        "colab_type": "text"
      },
      "source": [
        "# Namespace and Scope"
      ]
    },
    {
      "cell_type": "markdown",
      "metadata": {
        "collapsed": false,
        "id": "hwxUrAcVJp45",
        "colab_type": "text"
      },
      "source": [
        "# Python Namespace and Scope\n",
        "\n",
        "In this section, you will learn about namespace; mapping from names to objects and, scope of a variable.\n",
        "\n",
        "## What is Name in Python?\n",
        "\n",
        "If you have ever read 'The Zen of Python' (type \"import this\" in Python interpreter), the last line states,**Namespaces are one honking great idea -- let's do more of those!** So what are these mysterious namespaces? Let us first look at what name is.\n",
        "\n",
        "Name (also called identifier) is simply a name given to objects. Everything in Python is an object. Name is a way to access the underlying object.\n",
        "\n",
        "For example, when we do the assignment `a = 2`, here `2` is an object stored in memory and `a` is the name we associate it with. We can get the address (in RAM) of some object through the built-in function `id()`. Let's check it."
      ]
    },
    {
      "cell_type": "code",
      "metadata": {
        "id": "gYX508OCJp46",
        "colab_type": "code",
        "colab": {},
        "outputId": "781e4b81-8f4a-49ef-8f0c-efede00071f8"
      },
      "source": [
        " #Note: You may get different value of id\n",
        "\n",
        "a = 2\n",
        "# Output: id(2)= 10919424\n",
        "print('id(2) =', id(2))\n",
        "\n",
        "# Output: id(a) = 10919424\n",
        "print('id(a) =', id(a))"
      ],
      "execution_count": 0,
      "outputs": [
        {
          "output_type": "stream",
          "text": [
            "id(2) = 10914528\n",
            "id(a) = 10914528\n"
          ],
          "name": "stdout"
        }
      ]
    },
    {
      "cell_type": "markdown",
      "metadata": {
        "collapsed": false,
        "id": "rOgTloirJp47",
        "colab_type": "text"
      },
      "source": [
        "Here, both refer to the same object. Let's make things a little more interesting.\n",
        "\n"
      ]
    },
    {
      "cell_type": "code",
      "metadata": {
        "id": "0F11bYvtJp47",
        "colab_type": "code",
        "colab": {},
        "outputId": "b53398e2-7189-4118-97b6-b973f5887d13"
      },
      "source": [
        "# Note: You may get different value of id\n",
        "\n",
        "a = 2\n",
        "\n",
        "# Output: id(a) = 10919424\n",
        "print('id(a) =', id(a))\n",
        "\n",
        "a = a+1\n",
        "\n",
        "# Output: id(a) = 10919456\n",
        "print('id(a) =', id(a))\n",
        "\n",
        "# Output: id(3) = 10919456\n",
        "print('id(3) =', id(3))\n",
        "\n",
        "b = 2\n",
        "\n",
        "# Output: id(2)= 10919424\n",
        "print('id(2) =', id(2))"
      ],
      "execution_count": 0,
      "outputs": [
        {
          "output_type": "stream",
          "text": [
            "id(a) = 10914528\n",
            "id(a) = 10914560\n",
            "id(3) = 10914560\n",
            "id(2) = 10914528\n"
          ],
          "name": "stdout"
        }
      ]
    },
    {
      "cell_type": "markdown",
      "metadata": {
        "collapsed": false,
        "id": "Tth0VI3dJp49",
        "colab_type": "text"
      },
      "source": [
        "What is happening in the above sequence of steps? A diagram will help us explain this.\n",
        "\n"
      ]
    },
    {
      "cell_type": "markdown",
      "metadata": {
        "collapsed": false,
        "id": "Nk5K4OOfJp49",
        "colab_type": "text"
      },
      "source": [
        "![Memory diagram of a variable](https://cdn.programiz.com/sites/tutorial2program/files/aEquals2.jpg \"Memory Diagram\")"
      ]
    },
    {
      "cell_type": "markdown",
      "metadata": {
        "collapsed": false,
        "id": "FKu1Zmn2Jp49",
        "colab_type": "text"
      },
      "source": [
        "Initially, an object `2` is created and the name `a` is associated with it, when we do `a = a+1`, a new object `3` is created and now `a` associates with this object.\n",
        "\n",
        "Note that `id(a)` and `id(3)` have same values.\n",
        "\n",
        "Furthermore, when we do `b = 2`, the new name `b` gets associated with the previous object `2`.\n",
        "\n",
        "This is efficient as Python doesn't have to create a new duplicate object. This dynamic nature of name binding makes Python powerful; a name could refer to any type of object."
      ]
    },
    {
      "cell_type": "code",
      "metadata": {
        "id": "i8cIOPKFJp49",
        "colab_type": "code",
        "colab": {}
      },
      "source": [
        "a = 5\n",
        "a = 'Hello World!'\n",
        "a = [1,2,3]"
      ],
      "execution_count": 0,
      "outputs": []
    },
    {
      "cell_type": "markdown",
      "metadata": {
        "collapsed": false,
        "id": "npMh7jqgJp4_",
        "colab_type": "text"
      },
      "source": [
        "All these are valid and `a` will refer to three different types of object at different instances. Functions are objects too, so a name can refer to them as well."
      ]
    },
    {
      "cell_type": "code",
      "metadata": {
        "id": "djOBH452Jp4_",
        "colab_type": "code",
        "colab": {},
        "outputId": "f7b2098c-bc97-4355-8ad6-d451db20e554"
      },
      "source": [
        "def printHello():\n",
        "    print(\"Hello\")\n",
        "a = printHello()\n",
        "\n",
        "# Output: Hello\n",
        "a"
      ],
      "execution_count": 0,
      "outputs": [
        {
          "output_type": "stream",
          "text": [
            "Hello\n"
          ],
          "name": "stdout"
        }
      ]
    },
    {
      "cell_type": "markdown",
      "metadata": {
        "collapsed": false,
        "id": "hBo9SE5QJp5A",
        "colab_type": "text"
      },
      "source": [
        "Our same name `a` can refer to a function and we can call the function through it, pretty neat."
      ]
    },
    {
      "cell_type": "markdown",
      "metadata": {
        "collapsed": false,
        "id": "k7XAF0wDJp5A",
        "colab_type": "text"
      },
      "source": [
        "## What is a Namespace in Python?\n",
        "\n",
        "So now that we understand what names are, we can move on to the concept of namespaces.\n",
        "\n",
        "To simply put it, namespace is a collection of names.\n",
        "\n",
        "In Python, you can imagine a namespace as a mapping of every name, you have defined, to corresponding objects.\n",
        "\n",
        "Different namespaces can co-exist at a given time but are completely isolated.\n",
        "\n",
        "A namespace containing all the built-in names is created when we start the Python interpreter and exists as long we don't exit.\n",
        "\n",
        "This is the reason that built-in functions like `id()`, `print()` etc. are always available to us from any part of the program. Each module creates its own global namespace.\n",
        "\n",
        "These different namespaces are isolated. Hence, the same name that may exist in different modules do not collide.\n",
        "\n",
        "Modules can have various functions and classes. A local namespace is created when a function is called, which has all the names defined in it. Similar, is the case with class. Following diagram may help to clarify this concept.\n",
        "\n",
        "![Nested Namespaces in Python Programming](https://cdn.programiz.com/sites/tutorial2program/files/nested-namespaces-python.jpg \"Different Nested Namespaces\")"
      ]
    },
    {
      "cell_type": "markdown",
      "metadata": {
        "collapsed": false,
        "id": "Humx9uDWJp5A",
        "colab_type": "text"
      },
      "source": [
        "## Python Variable Scope\n",
        "\n",
        "Although there are various unique namespaces defined, we may not be able to access all of them from every part of the program. The concept of scope comes into play.\n",
        "Scope is the portion of the program from where a namespace can be accessed directly without any prefix.\n",
        "At any given moment, there are at least three nested scopes.\n",
        "\n",
        "1. Scope of the current function which has local names\n",
        "2. Scope of the module which has global names\n",
        "3. Outermost scope which has built-in names\n",
        "\n",
        "When a reference is made inside a function, the name is searched in the local namespace, then in the global namespace and finally in the built-in namespace.\n",
        "If there is a function inside another function, a new scope is nested inside the local scope."
      ]
    },
    {
      "cell_type": "code",
      "metadata": {
        "id": "7Xg7ZKwzJp5B",
        "colab_type": "code",
        "colab": {},
        "outputId": "9419cf43-5a1c-43ca-a225-ba1bb20587a7"
      },
      "source": [
        "**Example of Scope and Namespace in Python**"
      ],
      "execution_count": 0,
      "outputs": [
        {
          "output_type": "error",
          "ename": "SyntaxError",
          "evalue": "invalid syntax (<ipython-input-106-ba57dbfa8e42>, line 1)",
          "traceback": [
            "\u001b[0;36m  File \u001b[0;32m\"<ipython-input-106-ba57dbfa8e42>\"\u001b[0;36m, line \u001b[0;32m1\u001b[0m\n\u001b[0;31m    **Example of Scope and Namespace in Python**\u001b[0m\n\u001b[0m     ^\u001b[0m\n\u001b[0;31mSyntaxError\u001b[0m\u001b[0;31m:\u001b[0m invalid syntax\n"
          ]
        }
      ]
    },
    {
      "cell_type": "code",
      "metadata": {
        "id": "z9D2M5Y8Jp5C",
        "colab_type": "code",
        "colab": {}
      },
      "source": [
        "def outer_function():\n",
        "    b = 20\n",
        "    def inner_func():\n",
        "        c = 30\n",
        "\n",
        "a = 10"
      ],
      "execution_count": 0,
      "outputs": []
    },
    {
      "cell_type": "markdown",
      "metadata": {
        "collapsed": false,
        "id": "wSLd7aKjJp5E",
        "colab_type": "text"
      },
      "source": [
        "Here, the variable `a` is in the global namespace. Variable `b` is in the local namespace of `outer_function()` and `c` is in the nested local namespace of `inner_function()`.\n",
        "\n",
        "When we are in `inner_function()`, `c` is local to us, `b` is nonlocal and `a` is global. We can read as well as assign new values to `c` but can only read `b` and `a` from `inner_function()`.\n",
        "\n",
        "If we try to assign as a value to `b`, a new variable `b` is created in the local namespace which is different than the nonlocal `b`. Same thing happens when we assign a value to `a`.\n",
        "\n",
        "However, if we declare `a` as global, all the reference and assignment go to the global `a`. Similarly, if we want to rebind the variable `b`, it must be declared as nonlocal. The following example will further clarify this"
      ]
    },
    {
      "cell_type": "code",
      "metadata": {
        "id": "8QMnftaOJp5E",
        "colab_type": "code",
        "colab": {},
        "outputId": "b26d6ea5-83c0-4a1b-ed59-ef9d87164c02"
      },
      "source": [
        "def outer_function():\n",
        "    a = 20\n",
        "    def inner_function():\n",
        "        a = 30\n",
        "        print('a =',a)\n",
        "\n",
        "    inner_function()\n",
        "    print('a =',a)\n",
        "     \n",
        "a = 10\n",
        "outer_function()\n",
        "print('a =',a)"
      ],
      "execution_count": 0,
      "outputs": [
        {
          "output_type": "stream",
          "text": [
            "a = 30\n",
            "a = 20\n",
            "a = 10\n"
          ],
          "name": "stdout"
        }
      ]
    },
    {
      "cell_type": "markdown",
      "metadata": {
        "collapsed": false,
        "id": "M5KLOJ7EJp5F",
        "colab_type": "text"
      },
      "source": [
        "As you can see, the output of this program is\n",
        "\n",
        "```\n",
        "a = 30\n",
        "a = 20\n",
        "a = 10 \n",
        "```\n",
        "\n",
        "In this program, three different variables `a` are defined in separate namespaces and accessed accordingly. While in the following program,"
      ]
    },
    {
      "cell_type": "code",
      "metadata": {
        "id": "4ZnNeRI_Jp5H",
        "colab_type": "code",
        "colab": {},
        "outputId": "e2755921-8552-472b-9083-50d6e22a178f"
      },
      "source": [
        "def outer_function():\n",
        "    global a\n",
        "    a = 20\n",
        "    def inner_function():\n",
        "        global a\n",
        "        a = 30\n",
        "        print('a =',a)\n",
        "\n",
        "    inner_function()\n",
        "    print('a =',a)\n",
        "     \n",
        "a = 10\n",
        "outer_function()\n",
        "print('a =',a)"
      ],
      "execution_count": 0,
      "outputs": [
        {
          "output_type": "stream",
          "text": [
            "a = 30\n",
            "a = 30\n",
            "a = 30\n"
          ],
          "name": "stdout"
        }
      ]
    },
    {
      "cell_type": "markdown",
      "metadata": {
        "collapsed": false,
        "id": "f_Pwvq4_Jp5I",
        "colab_type": "text"
      },
      "source": [
        "The output of the program is.\n",
        "\n",
        "```\n",
        "a = 30\n",
        "a = 30\n",
        "a = 30 \n",
        "```\n",
        "\n",
        "Here, all reference and assignment are to the globaladue to the use of keyword `global`."
      ]
    }
  ]
}